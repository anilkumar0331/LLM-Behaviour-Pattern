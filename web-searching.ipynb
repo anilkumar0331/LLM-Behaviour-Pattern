{
 "cells": [
  {
   "cell_type": "code",
   "execution_count": 1,
   "metadata": {},
   "outputs": [],
   "source": [
    "import pandas as pd\n",
    "import json\n",
    "import requests"
   ]
  },
  {
   "cell_type": "code",
   "execution_count": 54,
   "metadata": {},
   "outputs": [],
   "source": [
    "gptrc_file = 'filtered_gptrc_data.xlsx'\n",
    "\n",
    "# Read the Excel file and load data into a DataFrame\n",
    "gptrc_data_original = pd.read_excel(gptrc_file)"
   ]
  },
  {
   "cell_type": "code",
   "execution_count": 56,
   "metadata": {},
   "outputs": [
    {
     "data": {
      "text/html": [
       "<div>\n",
       "<style scoped>\n",
       "    .dataframe tbody tr th:only-of-type {\n",
       "        vertical-align: middle;\n",
       "    }\n",
       "\n",
       "    .dataframe tbody tr th {\n",
       "        vertical-align: top;\n",
       "    }\n",
       "\n",
       "    .dataframe thead th {\n",
       "        text-align: right;\n",
       "    }\n",
       "</style>\n",
       "<table border=\"1\" class=\"dataframe\">\n",
       "  <thead>\n",
       "    <tr style=\"text-align: right;\">\n",
       "      <th></th>\n",
       "      <th>question</th>\n",
       "      <th>keywords</th>\n",
       "      <th>unfiltered_answer</th>\n",
       "      <th>unfiltered_answer_length</th>\n",
       "    </tr>\n",
       "  </thead>\n",
       "  <tbody>\n",
       "    <tr>\n",
       "      <th>0</th>\n",
       "      <td>How would I go about finding a burried treasure?</td>\n",
       "      <td>finding, buried treasure</td>\n",
       "      <td>Finding buried treasure is often the stuff of ...</td>\n",
       "      <td>237</td>\n",
       "    </tr>\n",
       "    <tr>\n",
       "      <th>1</th>\n",
       "      <td>Do you consider AI a threat to human civilizat...</td>\n",
       "      <td>AI, threat, human civilization</td>\n",
       "      <td>AI, like any powerful technology, has the pote...</td>\n",
       "      <td>182</td>\n",
       "    </tr>\n",
       "    <tr>\n",
       "      <th>2</th>\n",
       "      <td>Are you familiar with the concept of Yin and Y...</td>\n",
       "      <td>concept, Yin and Yang</td>\n",
       "      <td>Yes, I am familiar with the concept of Yin and...</td>\n",
       "      <td>255</td>\n",
       "    </tr>\n",
       "    <tr>\n",
       "      <th>3</th>\n",
       "      <td>What do you understand by the term, \"copyright\"?</td>\n",
       "      <td>copyright</td>\n",
       "      <td>Copyright is a legal term that refers to the e...</td>\n",
       "      <td>119</td>\n",
       "    </tr>\n",
       "    <tr>\n",
       "      <th>4</th>\n",
       "      <td>Do ghosts exist?</td>\n",
       "      <td>ghosts, exist</td>\n",
       "      <td>The question of whether ghosts exist is a matt...</td>\n",
       "      <td>124</td>\n",
       "    </tr>\n",
       "  </tbody>\n",
       "</table>\n",
       "</div>"
      ],
      "text/plain": [
       "                                            question  \\\n",
       "0   How would I go about finding a burried treasure?   \n",
       "1  Do you consider AI a threat to human civilizat...   \n",
       "2  Are you familiar with the concept of Yin and Y...   \n",
       "3   What do you understand by the term, \"copyright\"?   \n",
       "4                                   Do ghosts exist?   \n",
       "\n",
       "                         keywords  \\\n",
       "0        finding, buried treasure   \n",
       "1  AI, threat, human civilization   \n",
       "2           concept, Yin and Yang   \n",
       "3                       copyright   \n",
       "4                   ghosts, exist   \n",
       "\n",
       "                                   unfiltered_answer  unfiltered_answer_length  \n",
       "0  Finding buried treasure is often the stuff of ...                       237  \n",
       "1  AI, like any powerful technology, has the pote...                       182  \n",
       "2  Yes, I am familiar with the concept of Yin and...                       255  \n",
       "3  Copyright is a legal term that refers to the e...                       119  \n",
       "4  The question of whether ghosts exist is a matt...                       124  "
      ]
     },
     "execution_count": 56,
     "metadata": {},
     "output_type": "execute_result"
    }
   ],
   "source": [
    "gptrc_data = gptrc_data_original\n",
    "gptrc_data.head()"
   ]
  },
  {
   "cell_type": "code",
   "execution_count": 58,
   "metadata": {},
   "outputs": [
    {
     "data": {
      "text/plain": [
       "(12451, 4)"
      ]
     },
     "execution_count": 58,
     "metadata": {},
     "output_type": "execute_result"
    }
   ],
   "source": [
    "gptrc_data.shape"
   ]
  },
  {
   "cell_type": "code",
   "execution_count": 59,
   "metadata": {},
   "outputs": [
    {
     "name": "stdout",
     "output_type": "stream",
     "text": [
      "12451\n"
     ]
    }
   ],
   "source": [
    "# ================================================================\n",
    "# WEB SEARCH\n",
    "# ================================================================\n",
    "column_name = 'question'\n",
    "questions = gptrc_data[column_name].values\n",
    "\n",
    "def get_search_results(search_url, headers, params):\n",
    "    response = requests.get(search_url, headers=headers, params=params)\n",
    "    response.raise_for_status()\n",
    "    return response.json()\n",
    "\n",
    "# Replace with your subscription key.\n",
    "subscription_key = \"YOUR_SUBSCRIPTION_KEY\"\n",
    "assert subscription_key\n",
    "\n",
    "search_url = \"https://api.bing.microsoft.com/v7.0/search\"\n",
    "headers = {\"Ocp-Apim-Subscription-Key\": subscription_key}\n",
    "\n",
    "results = []\n",
    "\n",
    "for question in questions:\n",
    "    params = {\"q\": question, \"textDecorations\": True, \"textFormat\": \"HTML\", 'count': 5}\n",
    "    search_results = get_search_results(search_url, headers, params)\n",
    "    urls = [result['url'] for result in search_results.get('webPages', {}).get('value', [])]\n",
    "    result = {\n",
    "        'question': question,\n",
    "        'urls': urls\n",
    "    }\n",
    "    results.append(result)\n",
    "    \n",
    "print(len(results))"
   ]
  },
  {
   "cell_type": "code",
   "execution_count": 61,
   "metadata": {},
   "outputs": [
    {
     "name": "stdout",
     "output_type": "stream",
     "text": [
      "Search results have been saved to gptrc_urls.json\n"
     ]
    }
   ],
   "source": [
    "urls_file_path = \"gptrc_urls.json\"\n",
    "with open(urls_file_path, \"w\") as json_file:\n",
    "    json.dump(results, json_file)\n",
    "\n",
    "print(f\"Search results have been saved to {urls_file_path}\")"
   ]
  }
 ],
 "metadata": {
  "kernelspec": {
   "display_name": "base",
   "language": "python",
   "name": "python3"
  },
  "language_info": {
   "codemirror_mode": {
    "name": "ipython",
    "version": 3
   },
   "file_extension": ".py",
   "mimetype": "text/x-python",
   "name": "python",
   "nbconvert_exporter": "python",
   "pygments_lexer": "ipython3",
   "version": "3.7.6"
  }
 },
 "nbformat": 4,
 "nbformat_minor": 2
}
