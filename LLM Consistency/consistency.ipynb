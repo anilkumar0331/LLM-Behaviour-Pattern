{
 "cells": [
  {
   "cell_type": "code",
   "execution_count": 1,
   "metadata": {},
   "outputs": [],
   "source": [
    "import json"
   ]
  },
  {
   "cell_type": "code",
   "execution_count": 2,
   "metadata": {},
   "outputs": [
    {
     "name": "stdout",
     "output_type": "stream",
     "text": [
      "238\n"
     ]
    }
   ],
   "source": [
    "with open('wiki_bio_gpt3_filtered.json', 'r') as file:\n",
    "    # Read the content of the file\n",
    "    wiki_bio_gpt3_filtered = json.load(file)\n",
    "    \n",
    "print(len(wiki_bio_gpt3_filtered))"
   ]
  },
  {
   "cell_type": "code",
   "execution_count": 3,
   "metadata": {},
   "outputs": [
    {
     "name": "stderr",
     "output_type": "stream",
     "text": [
      "c:\\Users\\Anil\\AppData\\Local\\Programs\\Python\\Python310\\lib\\site-packages\\tqdm\\auto.py:22: TqdmWarning: IProgress not found. Please update jupyter and ipywidgets. See https://ipywidgets.readthedocs.io/en/stable/user_install.html\n",
      "  from .autonotebook import tqdm as notebook_tqdm\n"
     ]
    }
   ],
   "source": [
    "from transformers import AutoTokenizer, AutoModel\n",
    "import torch\n",
    "import numpy as np\n",
    "from scipy.spatial.distance import cosine\n",
    "\n",
    "# Initialize tokenizer and model\n",
    "tokenizer = AutoTokenizer.from_pretrained('sentence-transformers/all-MiniLM-L6-v2')\n",
    "model = AutoModel.from_pretrained('sentence-transformers/all-MiniLM-L6-v2')\n",
    "\n",
    "# Your existing functions here\n",
    "def get_embedding(text, tokenizer, model):\n",
    "    # Tokenize text and convert to input format\n",
    "    inputs = tokenizer(text, return_tensors='pt', padding=True, truncation=True, max_length=512)\n",
    "    # Get embeddings from the model\n",
    "    with torch.no_grad():\n",
    "        outputs = model(**inputs)\n",
    "    # Pool the outputs to get a single vector embedding (mean pooling)\n",
    "    embeddings = outputs.last_hidden_state.mean(dim=1).squeeze()\n",
    "    return embeddings\n",
    "\n",
    "def calculate_similarity_matrix(text_samples, tokenizer, model):\n",
    "    # Generate embeddings for each text sample\n",
    "    embeddings = [get_embedding(text, tokenizer, model).numpy() for text in text_samples]\n",
    "    \n",
    "    # Initialize similarity matrix\n",
    "    n = len(embeddings)\n",
    "    similarity_matrix = np.zeros((n, n))\n",
    "    \n",
    "    # Calculate pairwise cosine similarity\n",
    "    for i in range(n):\n",
    "        for j in range(i, n): # No need to calculate twice if i == j or for lower triangle\n",
    "            if i == j:\n",
    "                similarity_matrix[i, j] = 1 # Similarity with itself is 1\n",
    "            else:\n",
    "                sim = 1 - cosine(embeddings[i], embeddings[j])\n",
    "                similarity_matrix[i, j] = sim\n",
    "                similarity_matrix[j, i] = sim # Symmetric property\n",
    "    \n",
    "    return similarity_matrix\n",
    "\n",
    "def process_text_samples(data, tokenizer, model):\n",
    "\n",
    "    gpt3_text_sample_similarity_scores = []\n",
    "    \n",
    "    for item in data:\n",
    "        # Consider only the first five samples\n",
    "        gpt3_text_samples = item['gpt3_text_samples']\n",
    "        wiki_bio_text = item['wiki_bio_text']\n",
    "        # Calculate the similarity matrix for these samples\n",
    "        similarity_matrix = calculate_similarity_matrix(gpt3_text_samples, tokenizer, model)\n",
    "        # Mask the diagonal and calculate the average similarity\n",
    "        mask = np.ones(similarity_matrix.shape, dtype=bool)\n",
    "        np.fill_diagonal(mask, 0)\n",
    "        average_similarity = round(np.mean(similarity_matrix[mask]), 2)\n",
    "        gpt3_text_sample_similarity_scores.append(\n",
    "            {\"gpt3_text_samples\": gpt3_text_samples,\n",
    "             \"wiki_bio_text\": wiki_bio_text,\n",
    "             \"average_similarity_score\": average_similarity})\n",
    "        \n",
    "    return gpt3_text_sample_similarity_scores   "
   ]
  },
  {
   "cell_type": "code",
   "execution_count": 5,
   "metadata": {},
   "outputs": [],
   "source": [
    "wiki_bio_gpt3_with_similariy_scores = process_text_samples(wiki_bio_gpt3_filtered, tokenizer, model)"
   ]
  },
  {
   "cell_type": "code",
   "execution_count": 15,
   "metadata": {},
   "outputs": [
    {
     "data": {
      "text/plain": [
       "{'gpt3_text_samples': ['John Russell Reynolds (1 November 1829  – 11 March 1907) was an English lexicographer, editor and author. Born in London, he was the eldest son of the first Lord Ogmore, and was educated at Trinity College, Oxford, where he graduated B.A. in 1852 and became a Fellow in 1854. He was president of Magdalen Hall from 1864 to 1884, and from 1864 to 1883 was assistant-editor to the Oxford English Dictionary under James Murray. \\n\\nHe was a permanent contributor to The Saturday Review, and wrote several books about the House of Commons. He also compiled dictionaries of quotations and biographies and edited collections of newspaper articles. He had a particular interest in the works of Christian mystics, writing studies of the lives and works of Saints Augustine and Thomas à Kempis. For his edition of Thomas à Kempis\\' \"The Imitation of Christ\", first published in 1875, he wrote a biographical introduction.',\n",
       "  \"John Russell Reynolds (26 April 1819 – 17 June 1879) was an English poet, journalist and government servant. He was born in London and lived most of his life in the capital, although he spent a few years in the U.S.A.\\n\\nReynolds began his literary career writing reviews and verses for the Magazine of the British and Foreign Bible Society. In 1840, he was appointed as a commissioner in the Department of Woods and Forests and was later promoted to Secretary of the Office of Works in 1867.\\n\\nHe wrote translations of Virgil's Eclogues and Georgics, and subsequently wrote a number of poems for various periodicals. His most famous poem is probably The Forsaken Merman, in which he expresses sympathy for the fate of a mermaid who is forced to leave her Sea-King home.\\n\\nReynolds also published a long narrative poem, The Young Shepherds of Arcady, in 1851 and composed other poem collections such as The Holy Year in Poetry, The Poetical Remains of John Russel Reynolds and The Choicest Songs of John Russel\",\n",
       "  \"John Russell Reynolds (1820-1876) was an English lawyer, author, political theorist, and civil servant. He is widely known for his contributions to English jurisprudence, was the author of many books and pamphlets, especially in constitutional law, and is often credited as the father of codified English common law. Reynolds was born in London on 21 June 1820, the son of John Reynolds, a clerk in the Exchequer, and his wife Anna Pollock. He was educated at Dean Close School, and then at St. Edmund Hall, Oxford, from which he graduated BA in 1842; he was called to the bar at Lincoln's Inn in 1849. He was a member of the Royal Commission for the Revision of the Criminal Law, and with the help of his father drafted the Criminal Law Consolidation Acts of 1861 and 1864. He was legal member of the Indian Council from 1870 to 1876 and published his principle works, The Institutes of the Laws of England in 1869, and followed it up with The Laws of England in 1871, which is still consulted today. His influence on British law\"],\n",
       " 'wiki_bio_text': 'Sir John Russell Reynolds, 1st Baronet (22 May 1828 – 29 May 1896) was a British neurologist and physician. Reynolds was born in Romsey, Hampshire, as the son of John Reynolds, an independent minister, and the grandson of Dr. Henry Revell Reynolds. He received general education from his father, and was educated in his profession at University College, London, where he obtained three gold medals in the medical school. In 1851, he graduated M.B. in the University of London, and obtained a scholarship and gold medal in medicine. In 1852, he took the degree of M.D., and began practice in Leeds. He soon after moved to London, and took a house, 38 Grosvenor Street, in which Dr. Marshall Hall had lived. Hall announced to his patients in a printed circular that Reynolds had succeeded him in practice. Such procedure was contrary to a recognised understanding among physicians, and Hall incurred the censure of the College of Physicians. Reynolds, who was ignorant of Hall\\'s intention, was in no way responsible for the circular, and was in no way involved in the censure. He was duly elected a Fellow of the College in 1859. In the same year, he was appointed Assistant Physician to University College Hospital, to which he continued attached throughout life. He had before been, in 1855, Assistant Physician to the Hospital for Sick Children, and in 1857 Assistant Physician to the Westminster Hospital. In 1865, he became Professor of the Principles and Practice of Medicine at University College, and in 1878 he was appointed Physician-in-Ordinary to the Queen\\'s Household. He gained a considerable practice as a physician, and was often consulted in difficult cases of nervous disease. In 1869, he was elected a Fellow of the Royal Society, and in 1883 Vice-President of the Royal Medical and Chirurgical Society. He delivered the Lumleian Lecture at the College of Physicians in 1867, the Harveian Oration in 1884, and was elected President in 1893, on the death of Sir Andrew Clark. He was re-elected in 1894 and 1895, and on 1 January in the latter year was created a Baronet. In the winter of 1895–96, he became too ill to offer himself for re-election as President of the College of Physicians. He died at his house in Grosvenor Street, London, after several weeks of illness of a pulmonary congestion, on 29 May 1896. He was married, first, to Miss Ainslie, and, secondly, to Frances, widow of C. J. C. Crespigny, but left no children. The \"Reynolds Baronetcy\", of Grosvenor Street, was created in the Baronetage of the United Kingdom on 28 February 1895 for John Russell Reynolds. The title became extinct on his death. Reynolds devoted himself from an early period to the study of nervous diseases, and in 1854 published an \"Essay on Vertigo\"; in 1855 \"Diagnosis of Diseases of the Brain, Spinal Cord, and Nerves\", as well as \"Tables for the Diagnosis of Diseases of the Brain\"; in 1861 a treatise on epilepsy; in 1871 \"Lectures on the Clinical Uses of Electricity\"; in 1872 \"The Scientific Value of the Legal Tests of Insanity\"; besides many papers in medical periodicals and the transactions of medical societies, and several addresses to medical associations. His writings on nervous diseases were useful contributions to a department of medicine in which much work remained undone, but in the flood of modern observations they have been submerged. He will chiefly be remembered among physicians as the editor of the \"System of Medicine\", in five volumes, published from 1866 to 1879, a collection of essays on diseases, written by the most competent men who could be induced to write – compositions of varying merit, but generally of high value. He himself wrote the parts on erysipelas, on inflammation of the lymphatics, and on several forms of nervous disease. He published in 1893 a \"Life of Dr. Walter Hayle Walshe\". Reynolds was a tall man, with dark hair, with a dignified delivery and some oratorical power. Reynolds died in London.',\n",
       " 'average_similarity_score': 0.54}"
      ]
     },
     "execution_count": 15,
     "metadata": {},
     "output_type": "execute_result"
    }
   ],
   "source": [
    "wiki_bio_gpt3_with_similariy_scores[0]"
   ]
  },
  {
   "cell_type": "code",
   "execution_count": 16,
   "metadata": {},
   "outputs": [
    {
     "data": {
      "text/plain": [
       "{'gpt3_text_samples': [\"Katie Ledecky (born March 17, 1997) is an American competitive swimmer. She has broken several world records in distance freestyle and has won five Olympic gold medals and 15 world championship gold medals. Ledecky holds the world record in the women's 1500-, 800-, and 400-meter freestyle events. She also holds the fastest-ever times in the women's 1500-meter and 400-meter freestyle events.\\n\\nLedecky began swimming at the age of 6. She first achieved national prominence at the 2012 Olympics in London, where she won the gold medal, setting a new world record in the 800-meter freestyle. Since then, Ledecky has gone on to win multiple world championship and Olympic medals in the freestyle, medley, and open-water events. She is the current World and American Record holder for the 1500-meter freestyle, and the 400-meter freestyle.\",\n",
       "  \"Katie Ledecky (born March 17, 1997) is an American competitive swimmer. She is the current world-record holder in the women's 400-meter, 800-meter, and 1500-meter freestyle (long course). Ledecky has won thirty gold medals in major international competitions, nineteen at world championships and eleven at the Olympic Games. She is the world-record holder of the freestyle long course in the 400, 800 and 1500 meters, and currently holds the world record in the women's 400-meter, 800-meter, and 1500-meter freestyle (long course). In the 2016 Olympics, she won five medals; four gold in the 400, 800 and 1500 meters and a silver in the 200 meters freestyle. She was the most decorated female athlete of the 2016 Olympic Games.\",\n",
       "  \"Katie Ledecky (born March 17, 1997) is an American competitive swimmer. She has won five Olympic gold medals and 14 world championship gold medals, the most in history for a female swimmer. In her international debut at the 2012 London Olympics at age fifteen, she won gold in the Women's 800-meter freestyle, out-touching the defending world champion by over four seconds. At the 2016 Summer Olympics, she defended her 800-meter freestyle title, won the 400-meter freestyle by over five seconds, and added gold in the 200-meter freestyle, 4 × 200-meter freestyle relay, and 4 × 100-meter medley relay. \\n\\nLedecky holds the world records in the 400-, 800-, and 1,500-meter freestyle (long course). She also holds the fastest-ever times for a female in the 500-, 1000-meter, and the mile freestyle (long course). In total, she holds 10 world records, 15 total long course titles, and 11 short course titles while still attending high school. She is the first woman to\"],\n",
       " 'wiki_bio_text': \"Kathleen Genevieve Ledecky (born March 17, 1997) is an American competition swimmer, Olympic gold medalist, nine-time world champion, and current world record holder in multiple events. She is the current world record-holder in the 400-, 800-, and 1,500-meter freestyle (long course). She also holds the fastest-ever times in the 500- and 1,650-yard freestyles. In her international debut at the 2012 Summer Olympics as a 15-year-old, Ledecky unexpectedly won gold in the 800-meter freestyle in what was the second-fastest performance ever. In total, she has won fifteen medals in major international competitions, all of them gold, spanning the Summer Olympics, the World Championships, and the Pan Pacific Championships. During her career, she has broken ten world records. Ledecky's success has earned her Swimming World's World Swimmer of the Year and the American Swimmer of the Year awards in 2013 and 2014, as well as the FINA Swimmer of the Year award in 2013. Ledecky was also named the International Female Champion of Champions by L'Équipe in 2014.\",\n",
       " 'average_similarity_score': 0.95}"
      ]
     },
     "execution_count": 16,
     "metadata": {},
     "output_type": "execute_result"
    }
   ],
   "source": [
    "# For descending order sorting\n",
    "wiki_bio_gpt3_with_similariy_scores_sorted = sorted(wiki_bio_gpt3_with_similariy_scores, key=lambda x: x['average_similarity_score'], reverse=True)\n",
    "wiki_bio_gpt3_with_similariy_scores_sorted[0]"
   ]
  },
  {
   "cell_type": "code",
   "execution_count": 17,
   "metadata": {},
   "outputs": [
    {
     "name": "stdout",
     "output_type": "stream",
     "text": [
      "Results have been saved to wiki_bio_gpt3_with_similariy_scores.json\n"
     ]
    }
   ],
   "source": [
    "def write_results_to_file(results, output_file):\n",
    "    with open(output_file, \"w\") as json_file:\n",
    "         json.dump(results, json_file)\n",
    "    print(f\"Results have been saved to {output_file}\")\n",
    "    \n",
    "write_results_to_file(wiki_bio_gpt3_with_similariy_scores_sorted, \"wiki_bio_gpt3_with_similariy_scores.json\")"
   ]
  },
  {
   "cell_type": "code",
   "execution_count": 18,
   "metadata": {},
   "outputs": [
    {
     "data": {
      "text/plain": [
       "(28, 210)"
      ]
     },
     "execution_count": 18,
     "metadata": {},
     "output_type": "execute_result"
    }
   ],
   "source": [
    "# Separating the elements based on their average_similarity_score\n",
    "less_or_equal_05_list = [item for item in wiki_bio_gpt3_with_similariy_scores if item['average_similarity_score'] <= 0.5]\n",
    "greater_than_05_list = [item for item in wiki_bio_gpt3_with_similariy_scores if item['average_similarity_score'] > 0.5]\n",
    "\n",
    "len(less_or_equal_05_list), len(greater_than_05_list)"
   ]
  },
  {
   "cell_type": "code",
   "execution_count": 19,
   "metadata": {},
   "outputs": [
    {
     "data": {
      "image/png": "[encoded data removed]",
      "text/plain": [
       "<Figure size 800x600 with 1 Axes>"
      ]
     },
     "metadata": {},
     "output_type": "display_data"
    }
   ],
   "source": [
    "import matplotlib.pyplot as plt\n",
    "\n",
    "# Labels and values for your data\n",
    "labels = ['> 0.5', '<= 0.5']\n",
    "values = [len(greater_than_05_list), len(less_or_equal_05_list)]\n",
    "\n",
    "plt.figure(figsize=(8, 6))\n",
    "bars = plt.bar(labels, values, color=['green', '#E50914'])  # Corrected variable names\n",
    "\n",
    "# Adding count labels above bars\n",
    "for bar in bars:\n",
    "    yval = bar.get_height()\n",
    "    plt.text(bar.get_x() + bar.get_width() / 2, yval + 0.1, int(yval), ha='center', va='bottom')  # Ensure yval is integer\n",
    "\n",
    "plt.title('Count of Similarity Scores')\n",
    "plt.xlabel('Similarity Score Category')\n",
    "plt.ylabel('Count')\n",
    "plt.xticks(labels)\n",
    "plt.ylim(1, max(values) + 10)  # Adjust y-axis to start from 1\n",
    "plt.show()"
   ]
  }
 ],
 "metadata": {
  "kernelspec": {
   "display_name": "base",
   "language": "python",
   "name": "python3"
  },
  "language_info": {
   "codemirror_mode": {
    "name": "ipython",
    "version": 3
   },
   "file_extension": ".py",
   "mimetype": "text/x-python",
   "name": "python",
   "nbconvert_exporter": "python",
   "pygments_lexer": "ipython3",
   "version": "3.10.7"
  }
 },
 "nbformat": 4,
 "nbformat_minor": 2
}
