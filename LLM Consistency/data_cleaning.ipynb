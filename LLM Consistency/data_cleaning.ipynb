{
 "cells": [
  {
   "cell_type": "code",
   "execution_count": 1,
   "metadata": {},
   "outputs": [],
   "source": [
    "import json"
   ]
  },
  {
   "cell_type": "code",
   "execution_count": 2,
   "metadata": {},
   "outputs": [
    {
     "name": "stdout",
     "output_type": "stream",
     "text": [
      "238\n"
     ]
    }
   ],
   "source": [
    "with open('wiki_bio_gpt3.json', 'r') as file:\n",
    "    # Read the content of the file\n",
    "    original_wiki_bio_gpt3_data = json.load(file)\n",
    "    \n",
    "print(len(original_wiki_bio_gpt3_data))"
   ]
  },
  {
   "cell_type": "code",
   "execution_count": 3,
   "metadata": {},
   "outputs": [
    {
     "data": {
      "text/plain": [
       "['gpt3_text_samples',\n",
       " 'wiki_bio_test_idx',\n",
       " 'annotation',\n",
       " 'gpt3_text',\n",
       " 'wiki_bio_text',\n",
       " 'gpt3_sentences']"
      ]
     },
     "execution_count": 3,
     "metadata": {},
     "output_type": "execute_result"
    }
   ],
   "source": [
    "unique_keys = set()\n",
    "for item in original_wiki_bio_gpt3_data:\n",
    "    unique_keys.update(item.keys())\n",
    "\n",
    "list(unique_keys)"
   ]
  },
  {
   "cell_type": "code",
   "execution_count": 4,
   "metadata": {},
   "outputs": [
    {
     "data": {
      "text/plain": [
       "['gpt3_text_samples', 'wiki_bio_text']"
      ]
     },
     "execution_count": 4,
     "metadata": {},
     "output_type": "execute_result"
    }
   ],
   "source": [
    "wiki_bio_gpt3_data = original_wiki_bio_gpt3_data\n",
    "\n",
    "for item in wiki_bio_gpt3_data:\n",
    "    item.pop(\"gpt3_text\", None)  \n",
    "    item.pop(\"gpt3_sentences\", None)  \n",
    "    item.pop(\"annotation\", None)\n",
    "    item.pop(\"wiki_bio_test_idx\", None)\n",
    "\n",
    "unique_keys = set()\n",
    "for item in wiki_bio_gpt3_data:\n",
    "    unique_keys.update(item.keys())\n",
    "\n",
    "list(unique_keys)"
   ]
  },
  {
   "cell_type": "code",
   "execution_count": 5,
   "metadata": {},
   "outputs": [
    {
     "data": {
      "text/plain": [
       "{'wiki_bio_text': 'Sir John Russell Reynolds, 1st Baronet (22 May 1828 – 29 May 1896) was a British neurologist and physician. Reynolds was born in Romsey, Hampshire, as the son of John Reynolds, an independent minister, and the grandson of Dr. Henry Revell Reynolds. He received general education from his father, and was educated in his profession at University College, London, where he obtained three gold medals in the medical school. In 1851, he graduated M.B. in the University of London, and obtained a scholarship and gold medal in medicine. In 1852, he took the degree of M.D., and began practice in Leeds. He soon after moved to London, and took a house, 38 Grosvenor Street, in which Dr. Marshall Hall had lived. Hall announced to his patients in a printed circular that Reynolds had succeeded him in practice. Such procedure was contrary to a recognised understanding among physicians, and Hall incurred the censure of the College of Physicians. Reynolds, who was ignorant of Hall\\'s intention, was in no way responsible for the circular, and was in no way involved in the censure. He was duly elected a Fellow of the College in 1859. In the same year, he was appointed Assistant Physician to University College Hospital, to which he continued attached throughout life. He had before been, in 1855, Assistant Physician to the Hospital for Sick Children, and in 1857 Assistant Physician to the Westminster Hospital. In 1865, he became Professor of the Principles and Practice of Medicine at University College, and in 1878 he was appointed Physician-in-Ordinary to the Queen\\'s Household. He gained a considerable practice as a physician, and was often consulted in difficult cases of nervous disease. In 1869, he was elected a Fellow of the Royal Society, and in 1883 Vice-President of the Royal Medical and Chirurgical Society. He delivered the Lumleian Lecture at the College of Physicians in 1867, the Harveian Oration in 1884, and was elected President in 1893, on the death of Sir Andrew Clark. He was re-elected in 1894 and 1895, and on 1 January in the latter year was created a Baronet. In the winter of 1895–96, he became too ill to offer himself for re-election as President of the College of Physicians. He died at his house in Grosvenor Street, London, after several weeks of illness of a pulmonary congestion, on 29 May 1896. He was married, first, to Miss Ainslie, and, secondly, to Frances, widow of C. J. C. Crespigny, but left no children. The \"Reynolds Baronetcy\", of Grosvenor Street, was created in the Baronetage of the United Kingdom on 28 February 1895 for John Russell Reynolds. The title became extinct on his death. Reynolds devoted himself from an early period to the study of nervous diseases, and in 1854 published an \"Essay on Vertigo\"; in 1855 \"Diagnosis of Diseases of the Brain, Spinal Cord, and Nerves\", as well as \"Tables for the Diagnosis of Diseases of the Brain\"; in 1861 a treatise on epilepsy; in 1871 \"Lectures on the Clinical Uses of Electricity\"; in 1872 \"The Scientific Value of the Legal Tests of Insanity\"; besides many papers in medical periodicals and the transactions of medical societies, and several addresses to medical associations. His writings on nervous diseases were useful contributions to a department of medicine in which much work remained undone, but in the flood of modern observations they have been submerged. He will chiefly be remembered among physicians as the editor of the \"System of Medicine\", in five volumes, published from 1866 to 1879, a collection of essays on diseases, written by the most competent men who could be induced to write – compositions of varying merit, but generally of high value. He himself wrote the parts on erysipelas, on inflammation of the lymphatics, and on several forms of nervous disease. He published in 1893 a \"Life of Dr. Walter Hayle Walshe\". Reynolds was a tall man, with dark hair, with a dignified delivery and some oratorical power. Reynolds died in London.',\n",
       " 'gpt3_text_samples': ['John Russell Reynolds (1 November 1829  – 11 March 1907) was an English lexicographer, editor and author. Born in London, he was the eldest son of the first Lord Ogmore, and was educated at Trinity College, Oxford, where he graduated B.A. in 1852 and became a Fellow in 1854. He was president of Magdalen Hall from 1864 to 1884, and from 1864 to 1883 was assistant-editor to the Oxford English Dictionary under James Murray. \\n\\nHe was a permanent contributor to The Saturday Review, and wrote several books about the House of Commons. He also compiled dictionaries of quotations and biographies and edited collections of newspaper articles. He had a particular interest in the works of Christian mystics, writing studies of the lives and works of Saints Augustine and Thomas à Kempis. For his edition of Thomas à Kempis\\' \"The Imitation of Christ\", first published in 1875, he wrote a biographical introduction.',\n",
       "  \"John Russell Reynolds (26 April 1819 – 17 June 1879) was an English poet, journalist and government servant. He was born in London and lived most of his life in the capital, although he spent a few years in the U.S.A.\\n\\nReynolds began his literary career writing reviews and verses for the Magazine of the British and Foreign Bible Society. In 1840, he was appointed as a commissioner in the Department of Woods and Forests and was later promoted to Secretary of the Office of Works in 1867.\\n\\nHe wrote translations of Virgil's Eclogues and Georgics, and subsequently wrote a number of poems for various periodicals. His most famous poem is probably The Forsaken Merman, in which he expresses sympathy for the fate of a mermaid who is forced to leave her Sea-King home.\\n\\nReynolds also published a long narrative poem, The Young Shepherds of Arcady, in 1851 and composed other poem collections such as The Holy Year in Poetry, The Poetical Remains of John Russel Reynolds and The Choicest Songs of John Russel\",\n",
       "  \"John Russell Reynolds (1820-1876) was an English lawyer, author, political theorist, and civil servant. He is widely known for his contributions to English jurisprudence, was the author of many books and pamphlets, especially in constitutional law, and is often credited as the father of codified English common law. Reynolds was born in London on 21 June 1820, the son of John Reynolds, a clerk in the Exchequer, and his wife Anna Pollock. He was educated at Dean Close School, and then at St. Edmund Hall, Oxford, from which he graduated BA in 1842; he was called to the bar at Lincoln's Inn in 1849. He was a member of the Royal Commission for the Revision of the Criminal Law, and with the help of his father drafted the Criminal Law Consolidation Acts of 1861 and 1864. He was legal member of the Indian Council from 1870 to 1876 and published his principle works, The Institutes of the Laws of England in 1869, and followed it up with The Laws of England in 1871, which is still consulted today. His influence on British law\"]}"
      ]
     },
     "execution_count": 5,
     "metadata": {},
     "output_type": "execute_result"
    }
   ],
   "source": [
    "for item in wiki_bio_gpt3_data:\n",
    "    # Keep only the first three elements of 'gpt3_text_samples'\n",
    "    item['gpt3_text_samples'] = item['gpt3_text_samples'][:3]\n",
    "    \n",
    "wiki_bio_gpt3_data[0] "
   ]
  },
  {
   "cell_type": "code",
   "execution_count": 6,
   "metadata": {},
   "outputs": [
    {
     "name": "stdout",
     "output_type": "stream",
     "text": [
      "Results have been saved to wiki_bio_gpt3_filtered.json\n"
     ]
    }
   ],
   "source": [
    "def write_results_to_file(results, output_file):\n",
    "    with open(output_file, \"w\") as json_file:\n",
    "         json.dump(results, json_file)\n",
    "    print(f\"Results have been saved to {output_file}\")\n",
    "    \n",
    "write_results_to_file(wiki_bio_gpt3_data, \"wiki_bio_gpt3_filtered.json\")\n"
   ]
  }
 ],
 "metadata": {
  "kernelspec": {
   "display_name": "base",
   "language": "python",
   "name": "python3"
  },
  "language_info": {
   "codemirror_mode": {
    "name": "ipython",
    "version": 3
   },
   "file_extension": ".py",
   "mimetype": "text/x-python",
   "name": "python",
   "nbconvert_exporter": "python",
   "pygments_lexer": "ipython3",
   "version": "3.10.7"
  }
 },
 "nbformat": 4,
 "nbformat_minor": 2
}
