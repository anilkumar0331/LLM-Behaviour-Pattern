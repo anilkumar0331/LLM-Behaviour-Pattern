{
 "cells": [
  {
   "cell_type": "code",
   "execution_count": 1,
   "metadata": {},
   "outputs": [],
   "source": [
    "import json"
   ]
  },
  {
   "cell_type": "code",
   "execution_count": 9,
   "metadata": {},
   "outputs": [
    {
     "name": "stdout",
     "output_type": "stream",
     "text": [
      "2658\n"
     ]
    }
   ],
   "source": [
    "with open('gptrc_urls_context.json', 'r') as file:\n",
    "    # Read the content of the file\n",
    "    gptrc_urls_context = json.load(file)\n",
    "    \n",
    "print(len(gptrc_urls_context))"
   ]
  },
  {
   "cell_type": "code",
   "execution_count": 10,
   "metadata": {},
   "outputs": [
    {
     "data": {
      "text/html": [
       "<div>\n",
       "<style scoped>\n",
       "    .dataframe tbody tr th:only-of-type {\n",
       "        vertical-align: middle;\n",
       "    }\n",
       "\n",
       "    .dataframe tbody tr th {\n",
       "        vertical-align: top;\n",
       "    }\n",
       "\n",
       "    .dataframe thead th {\n",
       "        text-align: right;\n",
       "    }\n",
       "</style>\n",
       "<table border=\"1\" class=\"dataframe\">\n",
       "  <thead>\n",
       "    <tr style=\"text-align: right;\">\n",
       "      <th></th>\n",
       "      <th>question</th>\n",
       "      <th>keywords</th>\n",
       "      <th>unfiltered_answer</th>\n",
       "      <th>unfiltered_answer_length</th>\n",
       "    </tr>\n",
       "  </thead>\n",
       "  <tbody>\n",
       "    <tr>\n",
       "      <th>0</th>\n",
       "      <td>How would I go about finding a burried treasure?</td>\n",
       "      <td>finding, buried treasure</td>\n",
       "      <td>Finding buried treasure is often the stuff of ...</td>\n",
       "      <td>237</td>\n",
       "    </tr>\n",
       "    <tr>\n",
       "      <th>1</th>\n",
       "      <td>Do you consider AI a threat to human civilizat...</td>\n",
       "      <td>AI, threat, human civilization</td>\n",
       "      <td>AI, like any powerful technology, has the pote...</td>\n",
       "      <td>182</td>\n",
       "    </tr>\n",
       "    <tr>\n",
       "      <th>2</th>\n",
       "      <td>Are you familiar with the concept of Yin and Y...</td>\n",
       "      <td>concept, Yin and Yang</td>\n",
       "      <td>Yes, I am familiar with the concept of Yin and...</td>\n",
       "      <td>255</td>\n",
       "    </tr>\n",
       "    <tr>\n",
       "      <th>3</th>\n",
       "      <td>What do you understand by the term, \"copyright\"?</td>\n",
       "      <td>copyright</td>\n",
       "      <td>Copyright is a legal term that refers to the e...</td>\n",
       "      <td>119</td>\n",
       "    </tr>\n",
       "    <tr>\n",
       "      <th>4</th>\n",
       "      <td>Do ghosts exist?</td>\n",
       "      <td>ghosts, exist</td>\n",
       "      <td>The question of whether ghosts exist is a matt...</td>\n",
       "      <td>124</td>\n",
       "    </tr>\n",
       "  </tbody>\n",
       "</table>\n",
       "</div>"
      ],
      "text/plain": [
       "                                            question  \\\n",
       "0   How would I go about finding a burried treasure?   \n",
       "1  Do you consider AI a threat to human civilizat...   \n",
       "2  Are you familiar with the concept of Yin and Y...   \n",
       "3   What do you understand by the term, \"copyright\"?   \n",
       "4                                   Do ghosts exist?   \n",
       "\n",
       "                         keywords  \\\n",
       "0        finding, buried treasure   \n",
       "1  AI, threat, human civilization   \n",
       "2           concept, Yin and Yang   \n",
       "3                       copyright   \n",
       "4                   ghosts, exist   \n",
       "\n",
       "                                   unfiltered_answer  unfiltered_answer_length  \n",
       "0  Finding buried treasure is often the stuff of ...                       237  \n",
       "1  AI, like any powerful technology, has the pote...                       182  \n",
       "2  Yes, I am familiar with the concept of Yin and...                       255  \n",
       "3  Copyright is a legal term that refers to the e...                       119  \n",
       "4  The question of whether ghosts exist is a matt...                       124  "
      ]
     },
     "execution_count": 10,
     "metadata": {},
     "output_type": "execute_result"
    }
   ],
   "source": [
    "import pandas as pd\n",
    "\n",
    "gptrc_file = 'filtered_gptrc_data.xlsx'\n",
    "\n",
    "# Read the Excel file and load data into a DataFrame\n",
    "gptrc_data_original = pd.read_excel(gptrc_file)\n",
    "gptrc_data = gptrc_data_original\n",
    "gptrc_data.head()"
   ]
  },
  {
   "cell_type": "code",
   "execution_count": 4,
   "metadata": {},
   "outputs": [],
   "source": [
    "gptrc_urls_context_with_llm_answers = gptrc_urls_context\n",
    "for question in gptrc_urls_context_with_llm_answers:\n",
    "    # Find the corresponding unfiltered answer in the dataframe\n",
    "    unfiltered_answer = gptrc_data.loc[gptrc_data['question'] == question['question'], 'unfiltered_answer'].values\n",
    "    if unfiltered_answer.size > 0:\n",
    "        question['llm_answer'] = unfiltered_answer[0]\n",
    "    else:\n",
    "        question['llm_answer'] = None"
   ]
  },
  {
   "cell_type": "code",
   "execution_count": 17,
   "metadata": {},
   "outputs": [
    {
     "name": "stdout",
     "output_type": "stream",
     "text": [
      "Results have been saved to gptrc_urls_context_with_llm_answers.json\n"
     ]
    }
   ],
   "source": [
    "def write_results_to_file(results, output_file):\n",
    "    with open(output_file, \"w\") as json_file:\n",
    "         json.dump(results, json_file)\n",
    "    print(f\"Results have been saved to {output_file}\")\n",
    "    \n",
    "# Save the modified data to a new JSON file\n",
    "write_results_to_file(gptrc_urls_context_with_llm_answers, \"gptrc_urls_context_with_llm_answers.json\")"
   ]
  },
  {
   "cell_type": "code",
   "execution_count": 5,
   "metadata": {},
   "outputs": [
    {
     "name": "stdout",
     "output_type": "stream",
     "text": [
      "Loaded as API: https://fava-uw-fava.hf.space/--replicas/86pvg/ ✔\n"
     ]
    }
   ],
   "source": [
    "# =================================\n",
    "# Load Gradio Client to find hallucinations\n",
    "# =================================\n",
    "from gradio_client import Client\n",
    "client = Client(\"https://fava-uw-fava.hf.space/--replicas/86pvg/\")"
   ]
  },
  {
   "cell_type": "code",
   "execution_count": 6,
   "metadata": {},
   "outputs": [],
   "source": [
    "def find_hallucinations(context_llm_answers):\n",
    "    hallucinations = []\n",
    "    for item in context_llm_answers:\n",
    "        llm_answer = item['llm_answer']\n",
    "        for url_info in item['urls_info']:\n",
    "            context = url_info['context']\n",
    "            result = client.predict(\n",
    "    \t\tllm_answer,\t# str  in 'passage' Textbox component\n",
    "    \t\tcontext,\t# str  in 'reference' Textbox component\n",
    "    \t\tapi_name=\"/predict\")\n",
    "            hallucinations.append({'question': item['question'],\n",
    "                                   'reference': url_info['url'],\n",
    "                                   'prediction_result': result})\n",
    "            \n",
    "    return hallucinations"
   ]
  },
  {
   "cell_type": "code",
   "execution_count": 14,
   "metadata": {},
   "outputs": [
    {
     "name": "stdout",
     "output_type": "stream",
     "text": [
      "3888\n"
     ]
    }
   ],
   "source": [
    "hallucinations = find_hallucinations(gptrc_urls_context_with_llm_answers)\n",
    "print(len(hallucinations))"
   ]
  },
  {
   "cell_type": "code",
   "execution_count": 16,
   "metadata": {},
   "outputs": [
    {
     "name": "stdout",
     "output_type": "stream",
     "text": [
      "Results have been saved to hallucinations.json\n"
     ]
    }
   ],
   "source": [
    "write_results_to_file(hallucinations, \"hallucinations.json\")"
   ]
  },
  {
   "cell_type": "code",
   "execution_count": 2,
   "metadata": {},
   "outputs": [],
   "source": [
    "# Remove the items for which there is no content for prediction_result \n",
    "hallucinations_filtered = [item for item in hallucinations if item[\"prediction_result\"] != \"<div style=\\\"font-weight: normal;\\\"></div>\"]\n",
    "print(len(hallucinations_filtered))"
   ]
  },
  {
   "cell_type": "code",
   "execution_count": 18,
   "metadata": {},
   "outputs": [
    {
     "name": "stdout",
     "output_type": "stream",
     "text": [
      "Results have been saved to hallucinations_filtered.json\n"
     ]
    }
   ],
   "source": [
    "write_results_to_file(hallucinations_filtered, \"hallucinations_filtered.json\")"
   ]
  },
  {
   "cell_type": "code",
   "execution_count": 19,
   "metadata": {},
   "outputs": [
    {
     "name": "stdout",
     "output_type": "stream",
     "text": [
      "Unique Questions: 2550\n",
      "Duplicate Questions: 917\n"
     ]
    }
   ],
   "source": [
    "def process_questions(questions):\n",
    "    seen = set()\n",
    "    duplicates = set()\n",
    "    unique_questions = []\n",
    "\n",
    "    for item in questions:\n",
    "        question = item['question']\n",
    "        if question in seen:\n",
    "            duplicates.add(question)  # Add to duplicates if seen\n",
    "        else:\n",
    "            unique_questions.append(item)  # Add to unique_questions if not seen\n",
    "            seen.add(question)\n",
    "\n",
    "    # Convert the duplicates set to a list of dictionaries to match the input format\n",
    "    duplicate_questions_list = [{'question': q} for q in duplicates]\n",
    "\n",
    "    return unique_questions, duplicate_questions_list\n",
    "\n",
    "unique_questions, duplicate_questions = process_questions(hallucinations)\n",
    "\n",
    "print(\"Unique Questions:\", len(unique_questions))\n",
    "print(\"Duplicate Questions:\", len(duplicate_questions))"
   ]
  }
 ],
 "metadata": {
  "kernelspec": {
   "display_name": "base",
   "language": "python",
   "name": "python3"
  },
  "language_info": {
   "codemirror_mode": {
    "name": "ipython",
    "version": 3
   },
   "file_extension": ".py",
   "mimetype": "text/x-python",
   "name": "python",
   "nbconvert_exporter": "python",
   "pygments_lexer": "ipython3",
   "version": "3.10.7"
  }
 },
 "nbformat": 4,
 "nbformat_minor": 2
}
