{
 "cells": [
  {
   "cell_type": "code",
   "execution_count": 2,
   "metadata": {},
   "outputs": [],
   "source": [
    "import json"
   ]
  },
  {
   "cell_type": "code",
   "execution_count": 14,
   "metadata": {},
   "outputs": [
    {
     "name": "stdout",
     "output_type": "stream",
     "text": [
      "2658\n"
     ]
    }
   ],
   "source": [
    "with open('gptrc_urls_context.json', 'r') as file:\n",
    "    # Read the content of the file\n",
    "    gptrc_urls_context = json.load(file)\n",
    "    \n",
    "print(len(gptrc_urls_context))"
   ]
  },
  {
   "cell_type": "code",
   "execution_count": 15,
   "metadata": {},
   "outputs": [
    {
     "data": {
      "text/html": [
       "<div>\n",
       "<style scoped>\n",
       "    .dataframe tbody tr th:only-of-type {\n",
       "        vertical-align: middle;\n",
       "    }\n",
       "\n",
       "    .dataframe tbody tr th {\n",
       "        vertical-align: top;\n",
       "    }\n",
       "\n",
       "    .dataframe thead th {\n",
       "        text-align: right;\n",
       "    }\n",
       "</style>\n",
       "<table border=\"1\" class=\"dataframe\">\n",
       "  <thead>\n",
       "    <tr style=\"text-align: right;\">\n",
       "      <th></th>\n",
       "      <th>question</th>\n",
       "      <th>keywords</th>\n",
       "      <th>unfiltered_answer</th>\n",
       "      <th>unfiltered_answer_length</th>\n",
       "    </tr>\n",
       "  </thead>\n",
       "  <tbody>\n",
       "    <tr>\n",
       "      <th>0</th>\n",
       "      <td>How would I go about finding a burried treasure?</td>\n",
       "      <td>finding, buried treasure</td>\n",
       "      <td>Finding buried treasure is often the stuff of ...</td>\n",
       "      <td>237</td>\n",
       "    </tr>\n",
       "    <tr>\n",
       "      <th>1</th>\n",
       "      <td>Do you consider AI a threat to human civilizat...</td>\n",
       "      <td>AI, threat, human civilization</td>\n",
       "      <td>AI, like any powerful technology, has the pote...</td>\n",
       "      <td>182</td>\n",
       "    </tr>\n",
       "    <tr>\n",
       "      <th>2</th>\n",
       "      <td>Are you familiar with the concept of Yin and Y...</td>\n",
       "      <td>concept, Yin and Yang</td>\n",
       "      <td>Yes, I am familiar with the concept of Yin and...</td>\n",
       "      <td>255</td>\n",
       "    </tr>\n",
       "    <tr>\n",
       "      <th>3</th>\n",
       "      <td>What do you understand by the term, \"copyright\"?</td>\n",
       "      <td>copyright</td>\n",
       "      <td>Copyright is a legal term that refers to the e...</td>\n",
       "      <td>119</td>\n",
       "    </tr>\n",
       "    <tr>\n",
       "      <th>4</th>\n",
       "      <td>Do ghosts exist?</td>\n",
       "      <td>ghosts, exist</td>\n",
       "      <td>The question of whether ghosts exist is a matt...</td>\n",
       "      <td>124</td>\n",
       "    </tr>\n",
       "  </tbody>\n",
       "</table>\n",
       "</div>"
      ],
      "text/plain": [
       "                                            question  \\\n",
       "0   How would I go about finding a burried treasure?   \n",
       "1  Do you consider AI a threat to human civilizat...   \n",
       "2  Are you familiar with the concept of Yin and Y...   \n",
       "3   What do you understand by the term, \"copyright\"?   \n",
       "4                                   Do ghosts exist?   \n",
       "\n",
       "                         keywords  \\\n",
       "0        finding, buried treasure   \n",
       "1  AI, threat, human civilization   \n",
       "2           concept, Yin and Yang   \n",
       "3                       copyright   \n",
       "4                   ghosts, exist   \n",
       "\n",
       "                                   unfiltered_answer  unfiltered_answer_length  \n",
       "0  Finding buried treasure is often the stuff of ...                       237  \n",
       "1  AI, like any powerful technology, has the pote...                       182  \n",
       "2  Yes, I am familiar with the concept of Yin and...                       255  \n",
       "3  Copyright is a legal term that refers to the e...                       119  \n",
       "4  The question of whether ghosts exist is a matt...                       124  "
      ]
     },
     "execution_count": 15,
     "metadata": {},
     "output_type": "execute_result"
    }
   ],
   "source": [
    "import pandas as pd\n",
    "\n",
    "gptrc_file = 'filtered_gptrc_data.xlsx'\n",
    "\n",
    "# Read the Excel file and load data into a DataFrame\n",
    "gptrc_data_original = pd.read_excel(gptrc_file)\n",
    "gptrc_data = gptrc_data_original\n",
    "gptrc_data.head()"
   ]
  },
  {
   "cell_type": "code",
   "execution_count": 16,
   "metadata": {},
   "outputs": [],
   "source": [
    "for question in gptrc_urls_context:\n",
    "    # Find the corresponding unfiltered answer in the dataframe\n",
    "    unfiltered_answer = gptrc_data.loc[gptrc_data['question'] == question['question'], 'unfiltered_answer'].values\n",
    "    if unfiltered_answer.size > 0:\n",
    "        question['llm_answer'] = unfiltered_answer[0]\n",
    "    else:\n",
    "        question['llm_answer'] = None"
   ]
  },
  {
   "cell_type": "code",
   "execution_count": 17,
   "metadata": {},
   "outputs": [
    {
     "name": "stdout",
     "output_type": "stream",
     "text": [
      "Results have been saved to gptrc_urls_context_with_llm_answers.json\n"
     ]
    }
   ],
   "source": [
    "def write_results_to_file(results, output_file):\n",
    "    with open(output_file, \"w\") as json_file:\n",
    "         json.dump(results, json_file)\n",
    "    print(f\"Results have been saved to {output_file}\")\n",
    "    \n",
    "# Save the modified data to a new JSON file\n",
    "write_results_to_file(gptrc_urls_context, \"gptrc_urls_context_with_llm_answers.json\")"
   ]
  },
  {
   "cell_type": "code",
   "execution_count": 20,
   "metadata": {},
   "outputs": [
    {
     "name": "stdout",
     "output_type": "stream",
     "text": [
      "Collecting packaging\n",
      "  Downloading packaging-24.0-py3-none-any.whl (53 kB)\n",
      "Installing collected packages: packaging\n",
      "  Attempting uninstall: packaging\n",
      "    Found existing installation: packaging 20.1\n",
      "    Uninstalling packaging-20.1:\n",
      "      Successfully uninstalled packaging-20.1\n",
      "Successfully installed packaging-24.0\n",
      "Note: you may need to restart the kernel to use updated packages.\n"
     ]
    },
    {
     "name": "stderr",
     "output_type": "stream",
     "text": [
      "ERROR: pytest-astropy 0.8.0 requires pytest-cov>=2.0, which is not installed.\n",
      "ERROR: pytest-astropy 0.8.0 requires pytest-filter-subpackage>=0.1, which is not installed.\n"
     ]
    }
   ],
   "source": [
    "%pip install packaging --upgrade"
   ]
  },
  {
   "cell_type": "code",
   "execution_count": 3,
   "metadata": {},
   "outputs": [
    {
     "name": "stdout",
     "output_type": "stream",
     "text": [
      "2658\n"
     ]
    }
   ],
   "source": [
    "with open('gptrc_urls_context_with_llm_answers.json', 'r') as file:\n",
    "    # Read the content of the file\n",
    "    gptrc_urls_context_with_llm_answers = json.load(file)\n",
    "    \n",
    "print(len(gptrc_urls_context_with_llm_answers))"
   ]
  },
  {
   "cell_type": "code",
   "execution_count": 10,
   "metadata": {},
   "outputs": [
    {
     "name": "stdout",
     "output_type": "stream",
     "text": [
      "Loaded as API: https://fava-uw-fava.hf.space/--replicas/ai8yu/ ✔\n"
     ]
    }
   ],
   "source": [
    "# =================================\n",
    "# Load Gradio Client and find hallucinations\n",
    "# =================================\n",
    "from gradio_client import Client\n",
    "client = Client(\"https://fava-uw-fava.hf.space/--replicas/ai8yu/\")"
   ]
  },
  {
   "cell_type": "code",
   "execution_count": 11,
   "metadata": {},
   "outputs": [],
   "source": [
    "def find_hallucinations(context_llm_answers):\n",
    "    hallucinations = []\n",
    "    for item in context_llm_answers:\n",
    "        llm_answer = item['llm_answer']\n",
    "        for url_info in item['urls_info']:\n",
    "            context = url_info['context']\n",
    "            result = client.predict(\n",
    "    \t\tllm_answer,\t# str  in 'passage' Textbox component\n",
    "    \t\tcontext,\t# str  in 'reference' Textbox component\n",
    "    \t\tapi_name=\"/predict\")\n",
    "            hallucinations.append({'question': item['question'],\n",
    "                                   'prediction_result': result})\n",
    "            \n",
    "    return hallucinations"
   ]
  },
  {
   "cell_type": "code",
   "execution_count": 15,
   "metadata": {},
   "outputs": [
    {
     "ename": "TypeError",
     "evalue": "string indices must be integers",
     "output_type": "error",
     "traceback": [
      "\u001b[1;31m---------------------------------------------------------------------------\u001b[0m",
      "\u001b[1;31mTypeError\u001b[0m                                 Traceback (most recent call last)",
      "\u001b[1;32m<ipython-input-15-1140fa8b97af>\u001b[0m in \u001b[0;36m<module>\u001b[1;34m\u001b[0m\n\u001b[1;32m----> 1\u001b[1;33m \u001b[0mresult_1\u001b[0m \u001b[1;33m=\u001b[0m \u001b[0mfind_hallucinations\u001b[0m\u001b[1;33m(\u001b[0m\u001b[0mgptrc_urls_context_with_llm_answers\u001b[0m\u001b[1;33m[\u001b[0m\u001b[1;36m0\u001b[0m\u001b[1;33m]\u001b[0m\u001b[1;33m)\u001b[0m\u001b[1;33m\u001b[0m\u001b[1;33m\u001b[0m\u001b[0m\n\u001b[0m",
      "\u001b[1;32m<ipython-input-11-71b7143e8861>\u001b[0m in \u001b[0;36mfind_hallucinations\u001b[1;34m(context_llm_answers)\u001b[0m\n\u001b[0;32m      2\u001b[0m     \u001b[0mhallucinations\u001b[0m \u001b[1;33m=\u001b[0m \u001b[1;33m[\u001b[0m\u001b[1;33m]\u001b[0m\u001b[1;33m\u001b[0m\u001b[1;33m\u001b[0m\u001b[0m\n\u001b[0;32m      3\u001b[0m     \u001b[1;32mfor\u001b[0m \u001b[0mitem\u001b[0m \u001b[1;32min\u001b[0m \u001b[0mcontext_llm_answers\u001b[0m\u001b[1;33m:\u001b[0m\u001b[1;33m\u001b[0m\u001b[1;33m\u001b[0m\u001b[0m\n\u001b[1;32m----> 4\u001b[1;33m         \u001b[0mllm_answer\u001b[0m \u001b[1;33m=\u001b[0m \u001b[0mitem\u001b[0m\u001b[1;33m[\u001b[0m\u001b[1;34m'llm_answer'\u001b[0m\u001b[1;33m]\u001b[0m\u001b[1;33m\u001b[0m\u001b[1;33m\u001b[0m\u001b[0m\n\u001b[0m\u001b[0;32m      5\u001b[0m         \u001b[1;32mfor\u001b[0m \u001b[0murl_info\u001b[0m \u001b[1;32min\u001b[0m \u001b[0mitem\u001b[0m\u001b[1;33m[\u001b[0m\u001b[1;34m'urls_info'\u001b[0m\u001b[1;33m]\u001b[0m\u001b[1;33m:\u001b[0m\u001b[1;33m\u001b[0m\u001b[1;33m\u001b[0m\u001b[0m\n\u001b[0;32m      6\u001b[0m             \u001b[0mcontext\u001b[0m \u001b[1;33m=\u001b[0m \u001b[0murl_info\u001b[0m\u001b[1;33m[\u001b[0m\u001b[1;34m'context'\u001b[0m\u001b[1;33m]\u001b[0m\u001b[1;33m\u001b[0m\u001b[1;33m\u001b[0m\u001b[0m\n",
      "\u001b[1;31mTypeError\u001b[0m: string indices must be integers"
     ]
    }
   ],
   "source": [
    "result_1 = find_hallucinations(gptrc_urls_context_with_llm_answers[0])"
   ]
  },
  {
   "cell_type": "code",
   "execution_count": null,
   "metadata": {},
   "outputs": [],
   "source": [
    "result_2 = find_hallucinations(gptrc_urls_context_with_llm_answers[6:10])"
   ]
  },
  {
   "cell_type": "code",
   "execution_count": null,
   "metadata": {},
   "outputs": [],
   "source": [
    "final_result = result_1 + result_2        "
   ]
  },
  {
   "cell_type": "code",
   "execution_count": null,
   "metadata": {},
   "outputs": [],
   "source": [
    "def write_results_to_file(results, output_file):\n",
    "    with open(output_file, \"w\") as json_file:\n",
    "         json.dump(results, json_file)\n",
    "    print(f\"Results have been saved to {output_file}\")\n",
    "    \n",
    "# Save the modified data to a new JSON file\n",
    "write_results_to_file(final_result, \"hallucinations.json\")"
   ]
  }
 ],
 "metadata": {
  "kernelspec": {
   "display_name": "base",
   "language": "python",
   "name": "python3"
  },
  "language_info": {
   "codemirror_mode": {
    "name": "ipython",
    "version": 3
   },
   "file_extension": ".py",
   "mimetype": "text/x-python",
   "name": "python",
   "nbconvert_exporter": "python",
   "pygments_lexer": "ipython3",
   "version": "3.7.6"
  }
 },
 "nbformat": 4,
 "nbformat_minor": 2
}
