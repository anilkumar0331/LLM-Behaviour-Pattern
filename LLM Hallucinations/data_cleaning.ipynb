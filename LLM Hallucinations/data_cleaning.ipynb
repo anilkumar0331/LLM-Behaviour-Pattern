{
 "cells": [
  {
   "cell_type": "code",
   "execution_count": 5,
   "metadata": {},
   "outputs": [
    {
     "name": "stdout",
     "output_type": "stream",
     "text": [
      "Collecting textblob\n",
      "  Downloading textblob-0.17.1-py2.py3-none-any.whl (636 kB)\n",
      "Requirement already satisfied: nltk>=3.1; python_version >= \"3\" in c:\\bigdata\\anaconda3\\lib\\site-packages (from textblob) (3.4.5)\n",
      "Requirement already satisfied: six in c:\\bigdata\\anaconda3\\lib\\site-packages (from nltk>=3.1; python_version >= \"3\"->textblob) (1.14.0)\n",
      "Installing collected packages: textblob\n",
      "Successfully installed textblob-0.17.1\n",
      "Note: you may need to restart the kernel to use updated packages.\n"
     ]
    }
   ],
   "source": [
    "%pip install textblob\n",
    "%pip install spacy\n",
    "!python -m spacy download en_core_web_sm"
   ]
  },
  {
   "cell_type": "code",
   "execution_count": 8,
   "metadata": {},
   "outputs": [],
   "source": [
    "import pandas as pd\n",
    "from textblob import TextBlob\n",
    "import spacy\n",
    "import re"
   ]
  },
  {
   "cell_type": "code",
   "execution_count": 14,
   "metadata": {},
   "outputs": [],
   "source": [
    "# ================================================================\n",
    "# LOAD THE DATA\n",
    "# ================================================================\n",
    "\n",
    "# Specify the file path\n",
    "gptrc_file = 'GPTRC_GPT_Responses_Corpus.xlsx'\n",
    "\n",
    "# Read the Excel file and load data into a DataFrame\n",
    "gptrc_data_original = pd.read_excel(gptrc_file)"
   ]
  },
  {
   "cell_type": "code",
   "execution_count": 18,
   "metadata": {},
   "outputs": [
    {
     "data": {
      "text/html": [
       "<div>\n",
       "<style scoped>\n",
       "    .dataframe tbody tr th:only-of-type {\n",
       "        vertical-align: middle;\n",
       "    }\n",
       "\n",
       "    .dataframe tbody tr th {\n",
       "        vertical-align: top;\n",
       "    }\n",
       "\n",
       "    .dataframe thead th {\n",
       "        text-align: right;\n",
       "    }\n",
       "</style>\n",
       "<table border=\"1\" class=\"dataframe\">\n",
       "  <thead>\n",
       "    <tr style=\"text-align: right;\">\n",
       "      <th></th>\n",
       "      <th>question_no</th>\n",
       "      <th>question</th>\n",
       "      <th>keywords</th>\n",
       "      <th>unfiltered_answer</th>\n",
       "      <th>unfiltered_answer_length</th>\n",
       "      <th>thinking_time</th>\n",
       "      <th>response_completion_time</th>\n",
       "    </tr>\n",
       "  </thead>\n",
       "  <tbody>\n",
       "    <tr>\n",
       "      <th>0</th>\n",
       "      <td>1</td>\n",
       "      <td>Can you tell me about Mr. Narendra Modi, the c...</td>\n",
       "      <td>Mr. Narendra Modi, Prime Minister, India</td>\n",
       "      <td>Sure! Mr. Narendra Modi is the current Prime M...</td>\n",
       "      <td>84</td>\n",
       "      <td>265.0</td>\n",
       "      <td>1.2</td>\n",
       "    </tr>\n",
       "    <tr>\n",
       "      <th>1</th>\n",
       "      <td>2</td>\n",
       "      <td>Can you tell me about Mr. Abraham Lincoln?</td>\n",
       "      <td>Mr. Abraham Lincoln</td>\n",
       "      <td>Certainly! Mr. Abraham Lincoln was the 16th Pr...</td>\n",
       "      <td>91</td>\n",
       "      <td>350.0</td>\n",
       "      <td>1.4</td>\n",
       "    </tr>\n",
       "    <tr>\n",
       "      <th>2</th>\n",
       "      <td>3</td>\n",
       "      <td>If I spend 10 hours a day sleeping, 2 eating a...</td>\n",
       "      <td>10 hours, sleeping, 2 hours, eating, 5 hours, ...</td>\n",
       "      <td>If you spend 10 hours sleeping, 2 hours eating...</td>\n",
       "      <td>27</td>\n",
       "      <td>145.0</td>\n",
       "      <td>1.1</td>\n",
       "    </tr>\n",
       "    <tr>\n",
       "      <th>3</th>\n",
       "      <td>4</td>\n",
       "      <td>Two birds sit before a bird and two birds sit ...</td>\n",
       "      <td>Two birds, sit before, bird, two birds, sit af...</td>\n",
       "      <td>If we assume that there is only one bird sitti...</td>\n",
       "      <td>109</td>\n",
       "      <td>458.0</td>\n",
       "      <td>1.2</td>\n",
       "    </tr>\n",
       "    <tr>\n",
       "      <th>4</th>\n",
       "      <td>5</td>\n",
       "      <td>There’s a one-story house in which everything ...</td>\n",
       "      <td>one-story house, yellow, walls, yellow, doors,...</td>\n",
       "      <td>If the house is one-story and everything insid...</td>\n",
       "      <td>34</td>\n",
       "      <td>231.0</td>\n",
       "      <td>1.1</td>\n",
       "    </tr>\n",
       "  </tbody>\n",
       "</table>\n",
       "</div>"
      ],
      "text/plain": [
       "   question_no                                           question  \\\n",
       "0            1  Can you tell me about Mr. Narendra Modi, the c...   \n",
       "1            2         Can you tell me about Mr. Abraham Lincoln?   \n",
       "2            3  If I spend 10 hours a day sleeping, 2 eating a...   \n",
       "3            4  Two birds sit before a bird and two birds sit ...   \n",
       "4            5  There’s a one-story house in which everything ...   \n",
       "\n",
       "                                            keywords  \\\n",
       "0           Mr. Narendra Modi, Prime Minister, India   \n",
       "1                                Mr. Abraham Lincoln   \n",
       "2  10 hours, sleeping, 2 hours, eating, 5 hours, ...   \n",
       "3  Two birds, sit before, bird, two birds, sit af...   \n",
       "4  one-story house, yellow, walls, yellow, doors,...   \n",
       "\n",
       "                                   unfiltered_answer  \\\n",
       "0  Sure! Mr. Narendra Modi is the current Prime M...   \n",
       "1  Certainly! Mr. Abraham Lincoln was the 16th Pr...   \n",
       "2  If you spend 10 hours sleeping, 2 hours eating...   \n",
       "3  If we assume that there is only one bird sitti...   \n",
       "4  If the house is one-story and everything insid...   \n",
       "\n",
       "   unfiltered_answer_length  thinking_time  response_completion_time  \n",
       "0                        84          265.0                       1.2  \n",
       "1                        91          350.0                       1.4  \n",
       "2                        27          145.0                       1.1  \n",
       "3                       109          458.0                       1.2  \n",
       "4                        34          231.0                       1.1  "
      ]
     },
     "execution_count": 18,
     "metadata": {},
     "output_type": "execute_result"
    }
   ],
   "source": [
    "# Make a copy of original data\n",
    "gptrc_data = gptrc_data_original\n",
    "gptrc_data.head()"
   ]
  },
  {
   "cell_type": "code",
   "execution_count": 19,
   "metadata": {},
   "outputs": [
    {
     "data": {
      "text/plain": [
       "(50134, 7)"
      ]
     },
     "execution_count": 19,
     "metadata": {},
     "output_type": "execute_result"
    }
   ],
   "source": [
    "gptrc_data.shape"
   ]
  },
  {
   "cell_type": "code",
   "execution_count": 21,
   "metadata": {},
   "outputs": [
    {
     "data": {
      "text/html": [
       "<div>\n",
       "<style scoped>\n",
       "    .dataframe tbody tr th:only-of-type {\n",
       "        vertical-align: middle;\n",
       "    }\n",
       "\n",
       "    .dataframe tbody tr th {\n",
       "        vertical-align: top;\n",
       "    }\n",
       "\n",
       "    .dataframe thead th {\n",
       "        text-align: right;\n",
       "    }\n",
       "</style>\n",
       "<table border=\"1\" class=\"dataframe\">\n",
       "  <thead>\n",
       "    <tr style=\"text-align: right;\">\n",
       "      <th></th>\n",
       "      <th>question</th>\n",
       "      <th>keywords</th>\n",
       "      <th>unfiltered_answer</th>\n",
       "      <th>unfiltered_answer_length</th>\n",
       "    </tr>\n",
       "  </thead>\n",
       "  <tbody>\n",
       "    <tr>\n",
       "      <th>0</th>\n",
       "      <td>Can you tell me about Mr. Narendra Modi, the c...</td>\n",
       "      <td>Mr. Narendra Modi, Prime Minister, India</td>\n",
       "      <td>Sure! Mr. Narendra Modi is the current Prime M...</td>\n",
       "      <td>84</td>\n",
       "    </tr>\n",
       "    <tr>\n",
       "      <th>1</th>\n",
       "      <td>Can you tell me about Mr. Abraham Lincoln?</td>\n",
       "      <td>Mr. Abraham Lincoln</td>\n",
       "      <td>Certainly! Mr. Abraham Lincoln was the 16th Pr...</td>\n",
       "      <td>91</td>\n",
       "    </tr>\n",
       "    <tr>\n",
       "      <th>2</th>\n",
       "      <td>If I spend 10 hours a day sleeping, 2 eating a...</td>\n",
       "      <td>10 hours, sleeping, 2 hours, eating, 5 hours, ...</td>\n",
       "      <td>If you spend 10 hours sleeping, 2 hours eating...</td>\n",
       "      <td>27</td>\n",
       "    </tr>\n",
       "    <tr>\n",
       "      <th>3</th>\n",
       "      <td>Two birds sit before a bird and two birds sit ...</td>\n",
       "      <td>Two birds, sit before, bird, two birds, sit af...</td>\n",
       "      <td>If we assume that there is only one bird sitti...</td>\n",
       "      <td>109</td>\n",
       "    </tr>\n",
       "    <tr>\n",
       "      <th>4</th>\n",
       "      <td>There’s a one-story house in which everything ...</td>\n",
       "      <td>one-story house, yellow, walls, yellow, doors,...</td>\n",
       "      <td>If the house is one-story and everything insid...</td>\n",
       "      <td>34</td>\n",
       "    </tr>\n",
       "  </tbody>\n",
       "</table>\n",
       "</div>"
      ],
      "text/plain": [
       "                                            question  \\\n",
       "0  Can you tell me about Mr. Narendra Modi, the c...   \n",
       "1         Can you tell me about Mr. Abraham Lincoln?   \n",
       "2  If I spend 10 hours a day sleeping, 2 eating a...   \n",
       "3  Two birds sit before a bird and two birds sit ...   \n",
       "4  There’s a one-story house in which everything ...   \n",
       "\n",
       "                                            keywords  \\\n",
       "0           Mr. Narendra Modi, Prime Minister, India   \n",
       "1                                Mr. Abraham Lincoln   \n",
       "2  10 hours, sleeping, 2 hours, eating, 5 hours, ...   \n",
       "3  Two birds, sit before, bird, two birds, sit af...   \n",
       "4  one-story house, yellow, walls, yellow, doors,...   \n",
       "\n",
       "                                   unfiltered_answer  unfiltered_answer_length  \n",
       "0  Sure! Mr. Narendra Modi is the current Prime M...                        84  \n",
       "1  Certainly! Mr. Abraham Lincoln was the 16th Pr...                        91  \n",
       "2  If you spend 10 hours sleeping, 2 hours eating...                        27  \n",
       "3  If we assume that there is only one bird sitti...                       109  \n",
       "4  If the house is one-story and everything insid...                        34  "
      ]
     },
     "execution_count": 21,
     "metadata": {},
     "output_type": "execute_result"
    }
   ],
   "source": [
    "# 1.Remove unnecessary columns\n",
    "gptrc_data = gptrc_data.drop(columns=['question_no', 'thinking_time', 'response_completion_time'])\n",
    "gptrc_data.head()"
   ]
  },
  {
   "cell_type": "code",
   "execution_count": 51,
   "metadata": {},
   "outputs": [
    {
     "data": {
      "text/plain": [
       "24710"
      ]
     },
     "execution_count": 51,
     "metadata": {},
     "output_type": "execute_result"
    }
   ],
   "source": [
    "# 2.Remove questions based on length -> (play from 50 to 100 word count\n",
    "gptrc_data = gptrc_data[gptrc_data['unfiltered_answer_length'] >= 100]\n",
    "len(gptrc_data)"
   ]
  },
  {
   "cell_type": "code",
   "execution_count": 52,
   "metadata": {},
   "outputs": [],
   "source": [
    "def write_questions_to_file(questions, output_file):\n",
    "    with open(output_file, 'w') as file:\n",
    "        for question in questions:\n",
    "            file.write(question + '\\n')\n",
    "\n",
    "    print(f\"{len(questions)} questions have been stored in '{output_file}'\")"
   ]
  },
  {
   "cell_type": "code",
   "execution_count": 54,
   "metadata": {},
   "outputs": [
    {
     "name": "stdout",
     "output_type": "stream",
     "text": [
      "2859 questions have been stored in 'filtered-questions/numbered_questions.txt'\n",
      "21851 questions have been stored in 'filtered-questions/non_numbered_questions.txt'\n"
     ]
    }
   ],
   "source": [
    "column_name = 'question'\n",
    "gpt_questions_column = gptrc_data[column_name]\n",
    "questions = gpt_questions_column.tolist()\n",
    "\n",
    "numbered_questions = []\n",
    "non_numbered_questions = []\n",
    "\n",
    "# Loop through each question and classify it based on whether it contains numbers\n",
    "for question in questions:\n",
    "    if bool(re.search(r'\\d', question)):\n",
    "        numbered_questions.append(question)\n",
    "    else:\n",
    "        non_numbered_questions.append(question)\n",
    "\n",
    "number_based_questions_output_file = \"filtered-questions/numbered_questions.txt\"\n",
    "non_number_based_questions_output_file = \"filtered-questions/non_numbered_questions.txt\"\n",
    "\n",
    "write_questions_to_file(numbered_questions, number_based_questions_output_file)\n",
    "write_questions_to_file(non_numbered_questions, non_number_based_questions_output_file)"
   ]
  },
  {
   "cell_type": "code",
   "execution_count": 56,
   "metadata": {},
   "outputs": [
    {
     "name": "stdout",
     "output_type": "stream",
     "text": [
      "941 questions have been stored in 'filtered-questions/mathematical_questions.txt'\n",
      "20910 questions have been stored in 'filtered-questions/non_mathematical_questions.txt'\n"
     ]
    }
   ],
   "source": [
    "math_keywords = ['calculate', 'solve', 'equation', 'plus', 'minus', 'minimum', 'maximum', 'multiply', 'sum', 'product', 'integral', 'derivative', 'geometry', 'algebra', 'trigonometry', 'spend', 'addition', 'subtraction', 'add', 'subtract']\n",
    "math_symbols = ['+', '=', '*', '/', '^', '√', 'π', '%']\n",
    "\n",
    "# Load the English tokenizer, tagger, parser, NER, and word vectors\n",
    "nlp = spacy.load(\"en_core_web_sm\")\n",
    "\n",
    "def is_math_question(question):\n",
    "    doc = nlp(question)\n",
    "    # Check for mathematical symbols directly\n",
    "    if any(symbol in question for symbol in math_symbols):\n",
    "        return True\n",
    "    # Check for mathematical keywords\n",
    "    for token in doc:\n",
    "        if token.lemma_.lower() in math_keywords:\n",
    "            return True\n",
    "    return False\n",
    "\n",
    "mathematical_questions = [q for q in non_numbered_questions if is_math_question(q)]\n",
    "non_mathematical_questions = [q for q in non_numbered_questions if not is_math_question(q)]\n",
    "\n",
    "# Define the file paths where you want to store the questions\n",
    "mathematical_questions_based_output_file = \"filtered-questions/mathematical_questions.txt\"\n",
    "non_mathematical_questions_based_output_file = \"filtered-questions/non_mathematical_questions.txt\"\n",
    "\n",
    "write_questions_to_file(mathematical_questions, mathematical_questions_based_output_file)\n",
    "write_questions_to_file(non_mathematical_questions, non_mathematical_questions_based_output_file)"
   ]
  },
  {
   "cell_type": "code",
   "execution_count": 57,
   "metadata": {},
   "outputs": [
    {
     "name": "stdout",
     "output_type": "stream",
     "text": [
      "799 questions have been stored in 'filtered-questions/logical_questions.txt'\n",
      "20111 questions have been stored in 'filtered-questions/non_logical_questions.txt'\n"
     ]
    }
   ],
   "source": [
    "def is_logical_or_reasoning_question(question):\n",
    "    logical_keywords = [\n",
    "        'break', 'without touching', 'sequence', 'next', 'follows', 'imagine', 'probability', 'chance', 'suppose',\n",
    "        'mother', 'son', 'daughter', 'brother', 'family', 'drawn randomly', 'selected'\n",
    "    ]\n",
    "    pattern = re.compile('|'.join(logical_keywords), re.IGNORECASE)\n",
    "    if pattern.search(question):\n",
    "        return True\n",
    "    return False\n",
    "\n",
    "logical_questions = [q for q in non_mathematical_questions if is_logical_or_reasoning_question(q)]\n",
    "non_logical_questions = [q for q in non_mathematical_questions if not is_logical_or_reasoning_question(q)]\n",
    "\n",
    "# Define the file paths where you want to store the questions\n",
    "logical_questions_based_output_file = \"filtered-questions/logical_questions.txt\"\n",
    "non_logical_questions_based_output_file = \"filtered-questions/non_logical_questions.txt\"\n",
    "\n",
    "write_questions_to_file(logical_questions, logical_questions_based_output_file)\n",
    "write_questions_to_file(non_logical_questions, non_logical_questions_based_output_file)"
   ]
  },
  {
   "cell_type": "code",
   "execution_count": 58,
   "metadata": {},
   "outputs": [
    {
     "name": "stdout",
     "output_type": "stream",
     "text": [
      "3750 questions have been stored in 'filtered-questions/opinion_based_questions.txt'\n",
      "16361 questions have been stored in 'filtered-questions/non_opinion_based_questions.txt'\n"
     ]
    }
   ],
   "source": [
    "opinion_based_questions = []\n",
    "non_opinion_based_questions = []\n",
    "\n",
    "for question in non_logical_questions:\n",
    "    blob = TextBlob(question)\n",
    "    subjectivity = blob.sentiment.subjectivity\n",
    "    if subjectivity > 0.5:\n",
    "        # If the question is opinion-based, append it to the list\n",
    "        opinion_based_questions.append(question)\n",
    "    else:\n",
    "        # If the question is not opinion-based, append it to the list\n",
    "        non_opinion_based_questions.append(question)\n",
    "\n",
    "# Define the file paths where you want to store the questions\n",
    "opinion_questions_based_output_file = \"filtered-questions/opinion_based_questions.txt\"\n",
    "non_opinion_questions_based_output_file = \"filtered-questions/non_opinion_based_questions.txt\"\n",
    "\n",
    "write_questions_to_file(opinion_based_questions, opinion_questions_based_output_file)\n",
    "write_questions_to_file(non_opinion_based_questions, non_opinion_questions_based_output_file)"
   ]
  },
  {
   "cell_type": "code",
   "execution_count": 59,
   "metadata": {},
   "outputs": [
    {
     "name": "stdout",
     "output_type": "stream",
     "text": [
      "3901 questions have been stored in 'filtered-questions/subjective_questions.txt'\n",
      "12460 questions have been stored in 'filtered-questions/non_subjective_questions.txt'\n"
     ]
    }
   ],
   "source": [
    "def is_subjective_question(question):\n",
    "    subjective_patterns = [\n",
    "        r'\\b(your)\\b', r'\\b(recommend)\\b', r'\\b(enjoy(ed)?)\\b', r'\\b(feel(ing)?)\\b', r'\\b(can I)\\b',\n",
    "        r'\\b(strangest)\\b',r'\\b(played)\\b',r'\\b(watched)\\b',r'\\b(to you)\\b', r'\\b(do you think)\\b', \n",
    "        r'\\b(believe)\\b', r'\\b(opinion)\\b', r'\\b(would you)\\b', r'\\b(could you)\\b', \n",
    "        r'\\b(should)\\b', r'\\b(is it better to)\\b',r'\\b(is it wrong)\\b', r'\\b(is it good to)\\b', \n",
    "        r'\\b(how do you)\\b', r'\\b(predict)\\b', r'\\b(assume)\\b', r'\\b(how to|what should I do|solution to|advice)\\b',\n",
    "        r'\\b(do you like|favorite|prefer)\\b', r'\\b(improve the sentence|correct|edit)\\b'\n",
    "    ]\n",
    "    if any(re.search(pattern, question, re.IGNORECASE) for pattern in subjective_patterns):\n",
    "        return True\n",
    "    return False\n",
    "\n",
    "\n",
    "subjective_questions = [q for q in non_opinion_based_questions if is_subjective_question(q)]\n",
    "non_subjective_questions = [q for q in non_opinion_based_questions if not is_subjective_question(q)]\n",
    "\n",
    "# Define the file paths where you want to store the questions\n",
    "subjective_questions_based_output_file = \"filtered-questions/subjective_questions.txt\"\n",
    "non_subjective_questions_based_output_file = \"filtered-questions/non_subjective_questions.txt\"\n",
    "\n",
    "write_questions_to_file(subjective_questions, subjective_questions_based_output_file)\n",
    "write_questions_to_file(non_subjective_questions, non_subjective_questions_based_output_file)"
   ]
  },
  {
   "cell_type": "code",
   "execution_count": 60,
   "metadata": {},
   "outputs": [
    {
     "name": "stdout",
     "output_type": "stream",
     "text": [
      "9 questions have been stored in 'filtered-questions/sequence_questions.txt'\n",
      "12451 questions have been stored in 'filtered-questions/non_sequence_questions.txt'\n"
     ]
    }
   ],
   "source": [
    "def is_sequence_question(question):\n",
    "    # This regular expression looks for patterns like \"A, B, C, D\" or \"1, 2, 3, 4\"\n",
    "    # Adjust the regular expression to match the types of sequences you expect\n",
    "    sequence_pattern = re.compile(r'\\b(?:[A-Za-z],\\s?)+[A-Za-z]?\\b|\\b(?:\\d,\\s?)+\\d?\\b')\n",
    "    return bool(sequence_pattern.search(question))\n",
    "\n",
    "sequence_questions = [q for q in non_subjective_questions if is_sequence_question(q)]\n",
    "non_sequence_questions = [q for q in non_subjective_questions if not is_sequence_question(q)]\n",
    "\n",
    "# Define the file paths where you want to store the questions\n",
    "sequence_questions_based_output_file = \"filtered-questions/sequence_questions.txt\"\n",
    "non_sequence_questions_based_output_file = \"filtered-questions/non_sequence_questions.txt\"\n",
    "\n",
    "write_questions_to_file(sequence_questions, sequence_questions_based_output_file)\n",
    "write_questions_to_file(non_sequence_questions, non_sequence_questions_based_output_file)"
   ]
  },
  {
   "cell_type": "code",
   "execution_count": 74,
   "metadata": {},
   "outputs": [
    {
     "data": {
      "image/png": "[encoded data removed]",
      "text/plain": [
       "<Figure size 720x432 with 1 Axes>"
      ]
     },
     "metadata": {
      "needs_background": "light"
     },
     "output_type": "display_data"
    }
   ],
   "source": [
    "import matplotlib.pyplot as plt\n",
    "\n",
    "# Categories and their corresponding counts\n",
    "categories = ['Numbered', 'Mathematical', 'Logical Reasoning', 'Opinion Based', 'Subjective', 'Sequence', 'Factual']\n",
    "counts = [2859, 941, 799, 3750, 3901, 9, 12451]\n",
    "\n",
    "# Create the bar chart\n",
    "plt.figure(figsize=(10, 6))  # Optional: Adjust the figure size as needed\n",
    "plt.bar(categories, counts, color='#E50914')  # You can change the color as you like\n",
    "\n",
    "# Adding titles and labels\n",
    "plt.title('Distribution of Question Types in the Dataset')\n",
    "plt.xlabel('Question Type')\n",
    "plt.ylabel('Number of Questions')\n",
    "\n",
    "# Optional: Rotate category names for better readability\n",
    "plt.xticks(rotation=45)\n",
    "\n",
    "# Show the plot\n",
    "plt.show()\n"
   ]
  },
  {
   "cell_type": "code",
   "execution_count": 76,
   "metadata": {},
   "outputs": [],
   "source": [
    "filtered_questions = non_sequence_questions"
   ]
  },
  {
   "cell_type": "code",
   "execution_count": 77,
   "metadata": {},
   "outputs": [
    {
     "data": {
      "text/html": [
       "<div>\n",
       "<style scoped>\n",
       "    .dataframe tbody tr th:only-of-type {\n",
       "        vertical-align: middle;\n",
       "    }\n",
       "\n",
       "    .dataframe tbody tr th {\n",
       "        vertical-align: top;\n",
       "    }\n",
       "\n",
       "    .dataframe thead th {\n",
       "        text-align: right;\n",
       "    }\n",
       "</style>\n",
       "<table border=\"1\" class=\"dataframe\">\n",
       "  <thead>\n",
       "    <tr style=\"text-align: right;\">\n",
       "      <th></th>\n",
       "      <th>question</th>\n",
       "      <th>keywords</th>\n",
       "      <th>unfiltered_answer</th>\n",
       "      <th>unfiltered_answer_length</th>\n",
       "    </tr>\n",
       "  </thead>\n",
       "  <tbody>\n",
       "    <tr>\n",
       "      <th>14</th>\n",
       "      <td>How would I go about finding a burried treasure?</td>\n",
       "      <td>finding, buried treasure</td>\n",
       "      <td>Finding buried treasure is often the stuff of ...</td>\n",
       "      <td>237</td>\n",
       "    </tr>\n",
       "    <tr>\n",
       "      <th>22</th>\n",
       "      <td>Do you consider AI a threat to human civilizat...</td>\n",
       "      <td>AI, threat, human civilization</td>\n",
       "      <td>AI, like any powerful technology, has the pote...</td>\n",
       "      <td>182</td>\n",
       "    </tr>\n",
       "    <tr>\n",
       "      <th>30</th>\n",
       "      <td>Are you familiar with the concept of Yin and Y...</td>\n",
       "      <td>concept, Yin and Yang</td>\n",
       "      <td>Yes, I am familiar with the concept of Yin and...</td>\n",
       "      <td>255</td>\n",
       "    </tr>\n",
       "    <tr>\n",
       "      <th>37</th>\n",
       "      <td>What do you understand by the term, \"copyright\"?</td>\n",
       "      <td>copyright</td>\n",
       "      <td>Copyright is a legal term that refers to the e...</td>\n",
       "      <td>119</td>\n",
       "    </tr>\n",
       "    <tr>\n",
       "      <th>40</th>\n",
       "      <td>Do ghosts exist?</td>\n",
       "      <td>ghosts, exist</td>\n",
       "      <td>The question of whether ghosts exist is a matt...</td>\n",
       "      <td>124</td>\n",
       "    </tr>\n",
       "    <tr>\n",
       "      <th>...</th>\n",
       "      <td>...</td>\n",
       "      <td>...</td>\n",
       "      <td>...</td>\n",
       "      <td>...</td>\n",
       "    </tr>\n",
       "    <tr>\n",
       "      <th>50108</th>\n",
       "      <td>What are the differences between Brazilian jiu...</td>\n",
       "      <td>difference brazilian jiu jitsu muay thai</td>\n",
       "      <td>Brazilian Jiu Jitsu (BJJ) and Muay Thai are bo...</td>\n",
       "      <td>243</td>\n",
       "    </tr>\n",
       "    <tr>\n",
       "      <th>50111</th>\n",
       "      <td>What are some best examples of Presence of mind?</td>\n",
       "      <td>best example presence mind</td>\n",
       "      <td>1. During a road accident, a person quickly pu...</td>\n",
       "      <td>198</td>\n",
       "    </tr>\n",
       "    <tr>\n",
       "      <th>50118</th>\n",
       "      <td>When Japanese people comes India, how do they ...</td>\n",
       "      <td>japanese people, langugae, india</td>\n",
       "      <td>Japanese people who come to India may face lan...</td>\n",
       "      <td>114</td>\n",
       "    </tr>\n",
       "    <tr>\n",
       "      <th>50124</th>\n",
       "      <td>What was the \"core schools\" initiative that Ma...</td>\n",
       "      <td>core school initiative marissa mayer, google</td>\n",
       "      <td>Unfortunately, as an AI language model, I do n...</td>\n",
       "      <td>101</td>\n",
       "    </tr>\n",
       "    <tr>\n",
       "      <th>50126</th>\n",
       "      <td>How people crack the civil services exam in th...</td>\n",
       "      <td>civil service exam first attempt, people</td>\n",
       "      <td>As an AI language model, I do not have persona...</td>\n",
       "      <td>272</td>\n",
       "    </tr>\n",
       "  </tbody>\n",
       "</table>\n",
       "<p>12451 rows × 4 columns</p>\n",
       "</div>"
      ],
      "text/plain": [
       "                                                question  \\\n",
       "14      How would I go about finding a burried treasure?   \n",
       "22     Do you consider AI a threat to human civilizat...   \n",
       "30     Are you familiar with the concept of Yin and Y...   \n",
       "37      What do you understand by the term, \"copyright\"?   \n",
       "40                                      Do ghosts exist?   \n",
       "...                                                  ...   \n",
       "50108  What are the differences between Brazilian jiu...   \n",
       "50111   What are some best examples of Presence of mind?   \n",
       "50118  When Japanese people comes India, how do they ...   \n",
       "50124  What was the \"core schools\" initiative that Ma...   \n",
       "50126  How people crack the civil services exam in th...   \n",
       "\n",
       "                                           keywords  \\\n",
       "14                         finding, buried treasure   \n",
       "22                   AI, threat, human civilization   \n",
       "30                            concept, Yin and Yang   \n",
       "37                                        copyright   \n",
       "40                                    ghosts, exist   \n",
       "...                                             ...   \n",
       "50108      difference brazilian jiu jitsu muay thai   \n",
       "50111                    best example presence mind   \n",
       "50118              japanese people, langugae, india   \n",
       "50124  core school initiative marissa mayer, google   \n",
       "50126      civil service exam first attempt, people   \n",
       "\n",
       "                                       unfiltered_answer  \\\n",
       "14     Finding buried treasure is often the stuff of ...   \n",
       "22     AI, like any powerful technology, has the pote...   \n",
       "30     Yes, I am familiar with the concept of Yin and...   \n",
       "37     Copyright is a legal term that refers to the e...   \n",
       "40     The question of whether ghosts exist is a matt...   \n",
       "...                                                  ...   \n",
       "50108  Brazilian Jiu Jitsu (BJJ) and Muay Thai are bo...   \n",
       "50111  1. During a road accident, a person quickly pu...   \n",
       "50118  Japanese people who come to India may face lan...   \n",
       "50124  Unfortunately, as an AI language model, I do n...   \n",
       "50126  As an AI language model, I do not have persona...   \n",
       "\n",
       "       unfiltered_answer_length  \n",
       "14                          237  \n",
       "22                          182  \n",
       "30                          255  \n",
       "37                          119  \n",
       "40                          124  \n",
       "...                         ...  \n",
       "50108                       243  \n",
       "50111                       198  \n",
       "50118                       114  \n",
       "50124                       101  \n",
       "50126                       272  \n",
       "\n",
       "[12451 rows x 4 columns]"
      ]
     },
     "execution_count": 77,
     "metadata": {},
     "output_type": "execute_result"
    }
   ],
   "source": [
    "filtered_questions_set = set(filtered_questions)\n",
    "\n",
    "# Filter the DataFrame to keep only rows with questions in the filtered questions set\n",
    "filtered_gptrc_data = gptrc_data[gptrc_data['question'].isin(filtered_questions_set)]\n",
    "filtered_gptrc_data"
   ]
  },
  {
   "cell_type": "code",
   "execution_count": 78,
   "metadata": {},
   "outputs": [
    {
     "data": {
      "text/plain": [
       "(12451, 4)"
      ]
     },
     "execution_count": 78,
     "metadata": {},
     "output_type": "execute_result"
    }
   ],
   "source": [
    "filtered_gptrc_data.shape"
   ]
  },
  {
   "cell_type": "code",
   "execution_count": 85,
   "metadata": {},
   "outputs": [
    {
     "name": "stdout",
     "output_type": "stream",
     "text": [
      "Data has been stored in 'filtered_gptrc_data.xlsx'\n"
     ]
    }
   ],
   "source": [
    "excel_file_path = 'filtered_gptrc_data.xlsx'\n",
    "\n",
    "# Write the DataFrame to an Excel file\n",
    "filtered_gptrc_data.to_excel(excel_file_path, index=False)\n",
    "\n",
    "print(f\"Data has been stored in '{excel_file_path}'\")"
   ]
  }
 ],
 "metadata": {
  "kernelspec": {
   "display_name": "base",
   "language": "python",
   "name": "python3"
  },
  "language_info": {
   "codemirror_mode": {
    "name": "ipython",
    "version": 3
   },
   "file_extension": ".py",
   "mimetype": "text/x-python",
   "name": "python",
   "nbconvert_exporter": "python",
   "pygments_lexer": "ipython3",
   "version": "3.7.6"
  }
 },
 "nbformat": 4,
 "nbformat_minor": 2
}
