{
 "cells": [
  {
   "cell_type": "code",
   "execution_count": 3,
   "metadata": {},
   "outputs": [],
   "source": [
    "import json"
   ]
  },
  {
   "cell_type": "code",
   "execution_count": 56,
   "metadata": {},
   "outputs": [
    {
     "name": "stdout",
     "output_type": "stream",
     "text": [
      "2753\n"
     ]
    }
   ],
   "source": [
    "with open('../hallucinations_filtered.json', 'r') as file:\n",
    "    # Read the content of the file\n",
    "    hallucinations_filtered = json.load(file)\n",
    "    \n",
    "print(len(hallucinations_filtered))"
   ]
  },
  {
   "cell_type": "code",
   "execution_count": 57,
   "metadata": {},
   "outputs": [],
   "source": [
    "invented = \"<span style='background-color: #BFE9B9; border-bottom: 1px dotted;'>invented</span>\"\n",
    "subjective = \"<span style='background-color: #D3D3D3; border-bottom: 1px dotted;'>subjective</span>\"\n",
    "entity = \"<span style='background-color: #E9A2D9; border-bottom: 1px dotted;'>entity</span>\"\n",
    "contradictory = \"<span style='background-color: #FFFF9B; border-bottom: 1px dotted;'>contradictory</span>\"\n",
    "relation = \"<span style='background-color: #F3B78B; border-bottom: 1px dotted;'>relation</span>\"\n",
    "unverifiable = \"<span style='background-color: #D3D3D3; border-bottom: 1px dotted;'>unverifiable</span>\"\n",
    "\n",
    "pattern_types = [invented, subjective, entity, contradictory, relation, unverifiable]"
   ]
  },
  {
   "cell_type": "code",
   "execution_count": 70,
   "metadata": {},
   "outputs": [
    {
     "name": "stdout",
     "output_type": "stream",
     "text": [
      "318\n",
      "121\n",
      "76\n",
      "57\n",
      "650\n",
      "1531\n"
     ]
    }
   ],
   "source": [
    "entity_patterns = []\n",
    "invented_patterns = []\n",
    "subjective_patterns = []\n",
    "entity_invented_subjective_patterns = []\n",
    "other_patterns = []\n",
    "no_patterns = []\n",
    "\n",
    "# Function to check and classify hallucinations by specific pattern conditions\n",
    "for hallucination in hallucinations_filtered:\n",
    "    prediction_result = hallucination[\"prediction_result\"]\n",
    "    has_invented = invented in prediction_result\n",
    "    has_subjective = subjective in prediction_result\n",
    "    has_entity = entity in prediction_result\n",
    "    # Identifying any other patterns that are not invented, subjective, or entity\n",
    "    has_other_patterns = any(pattern in prediction_result for pattern in pattern_types if pattern not in [invented, subjective, entity])\n",
    "\n",
    "    # Resetting no_patterns for each hallucination check\n",
    "    is_no_pattern = all(pattern not in prediction_result for pattern in pattern_types)\n",
    "\n",
    "    if has_entity and not has_subjective and not has_invented and not has_other_patterns:\n",
    "        entity_patterns.append(hallucination)\n",
    "    elif has_invented and not has_entity and not has_subjective and not has_other_patterns:\n",
    "        invented_patterns.append(hallucination)\n",
    "    elif has_subjective and not has_entity and not has_invented and not has_other_patterns:\n",
    "        subjective_patterns.append(hallucination)\n",
    "    elif (has_invented or has_subjective or has_entity) and not has_other_patterns:\n",
    "        entity_invented_subjective_patterns.append(hallucination)\n",
    "    elif has_other_patterns:\n",
    "        other_patterns.append(hallucination)\n",
    "    elif is_no_pattern:\n",
    "        no_patterns.append(hallucination)\n",
    "            \n",
    "print(len(entity_patterns))\n",
    "print(len(invented_patterns))\n",
    "print(len(subjective_patterns))\n",
    "print(len(entity_invented_subjective_patterns))\n",
    "print(len(other_patterns))\n",
    "print(len(no_patterns))"
   ]
  },
  {
   "cell_type": "code",
   "execution_count": 72,
   "metadata": {},
   "outputs": [
    {
     "name": "stdout",
     "output_type": "stream",
     "text": [
      "Results have been saved to factual_inaccuracy_and_misclassification_hallucinations.json\n",
      "Results have been saved to fabricated_detail_hallucinations.json\n",
      "Results have been saved to speculative_reasoning_hallucinations.json\n",
      "Results have been saved to all_four_patterns_hallucinations.json\n",
      "Results have been saved to miscellaneous_hallucinations.json\n",
      "Results have been saved to no_hallucinations.json\n"
     ]
    }
   ],
   "source": [
    "def write_results_to_file(results, output_file):\n",
    "    with open(output_file, \"w\") as json_file:\n",
    "         json.dump(results, json_file)\n",
    "    print(f\"Results have been saved to {output_file}\")\n",
    "    \n",
    "write_results_to_file(entity_patterns, \"factual_inaccuracy_and_misclassification_hallucinations.json\")\n",
    "write_results_to_file(invented_patterns, \"fabricated_detail_hallucinations.json\")\n",
    "write_results_to_file(subjective_patterns, \"speculative_reasoning_hallucinations.json\")\n",
    "write_results_to_file(entity_invented_subjective_patterns, \"all_four_patterns_hallucinations.json\")\n",
    "write_results_to_file(other_patterns, \"miscellaneous_hallucinations.json\")\n",
    "write_results_to_file(no_patterns, \"no_hallucinations.json\")"
   ]
  }
 ],
 "metadata": {
  "kernelspec": {
   "display_name": "base",
   "language": "python",
   "name": "python3"
  },
  "language_info": {
   "codemirror_mode": {
    "name": "ipython",
    "version": 3
   },
   "file_extension": ".py",
   "mimetype": "text/x-python",
   "name": "python",
   "nbconvert_exporter": "python",
   "pygments_lexer": "ipython3",
   "version": "3.10.7"
  }
 },
 "nbformat": 4,
 "nbformat_minor": 2
}
