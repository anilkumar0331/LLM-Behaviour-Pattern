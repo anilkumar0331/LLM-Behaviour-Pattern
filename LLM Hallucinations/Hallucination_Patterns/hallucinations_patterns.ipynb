{
 "cells": [
  {
   "cell_type": "code",
   "execution_count": 3,
   "metadata": {},
   "outputs": [],
   "source": [
    "import json"
   ]
  },
  {
   "cell_type": "code",
   "execution_count": 56,
   "metadata": {},
   "outputs": [
    {
     "name": "stdout",
     "output_type": "stream",
     "text": [
      "2753\n"
     ]
    }
   ],
   "source": [
    "with open('../hallucinations_filtered.json', 'r') as file:\n",
    "    # Read the content of the file\n",
    "    hallucinations_filtered = json.load(file)\n",
    "    \n",
    "print(len(hallucinations_filtered))"
   ]
  },
  {
   "cell_type": "code",
   "execution_count": 57,
   "metadata": {},
   "outputs": [],
   "source": [
    "invented = \"<span style='background-color: #BFE9B9; border-bottom: 1px dotted;'>invented</span>\"\n",
    "subjective = \"<span style='background-color: #D3D3D3; border-bottom: 1px dotted;'>subjective</span>\"\n",
    "entity = \"<span style='background-color: #E9A2D9; border-bottom: 1px dotted;'>entity</span>\"\n",
    "contradictory = \"<span style='background-color: #FFFF9B; border-bottom: 1px dotted;'>contradictory</span>\"\n",
    "relation = \"<span style='background-color: #F3B78B; border-bottom: 1px dotted;'>relation</span>\"\n",
    "unverifiable = \"<span style='background-color: #D3D3D3; border-bottom: 1px dotted;'>unverifiable</span>\"\n",
    "\n",
    "pattern_types = [invented, subjective, entity, contradictory, relation, unverifiable]"
   ]
  },
  {
   "cell_type": "code",
   "execution_count": 70,
   "metadata": {},
   "outputs": [
    {
     "name": "stdout",
     "output_type": "stream",
     "text": [
      "318\n",
      "121\n",
      "76\n",
      "57\n",
      "650\n",
      "1531\n"
     ]
    }
   ],
   "source": [
    "entity_hallucinations = []\n",
    "invented_hallucinations = []\n",
    "subjective_hallucinations = []\n",
    "entity_invented_subjective_hallucinations = []\n",
    "other_hallucinations = []\n",
    "no_hallucinations = []\n",
    "\n",
    "# Function to check and classify hallucinations by specific pattern conditions\n",
    "for hallucination in hallucinations_filtered:\n",
    "    prediction_result = hallucination[\"prediction_result\"]\n",
    "    has_invented = invented in prediction_result\n",
    "    has_subjective = subjective in prediction_result\n",
    "    has_entity = entity in prediction_result\n",
    "    # Identifying any other patterns that are not invented, subjective, or entity\n",
    "    has_other_hallucinations = any(pattern in prediction_result for pattern in pattern_types if pattern not in [invented, subjective, entity])\n",
    "\n",
    "    # Resetting no_hallucinations for each hallucination check\n",
    "    is_no_hallucination = all(pattern not in prediction_result for pattern in pattern_types)\n",
    "\n",
    "    if has_entity and not has_subjective and not has_invented and not has_other_hallucinations:\n",
    "        entity_hallucinations.append(hallucination)\n",
    "    elif has_invented and not has_entity and not has_subjective and not has_other_hallucinations:\n",
    "        invented_hallucinations.append(hallucination)\n",
    "    elif has_subjective and not has_entity and not has_invented and not has_other_hallucinations:\n",
    "        subjective_hallucinations.append(hallucination)\n",
    "    elif (has_invented or has_subjective or has_entity) and not has_other_hallucinations:\n",
    "        entity_invented_subjective_hallucinations.append(hallucination)\n",
    "    elif has_other_hallucinations:\n",
    "        other_hallucinations.append(hallucination)\n",
    "    elif is_no_hallucination:\n",
    "        no_hallucinations.append(hallucination)\n",
    "            \n",
    "print(len(entity_hallucinations))\n",
    "print(len(invented_hallucinations))\n",
    "print(len(subjective_hallucinations))\n",
    "print(len(entity_invented_subjective_hallucinations))\n",
    "print(len(other_hallucinations))\n",
    "print(len(no_hallucinations))"
   ]
  },
  {
   "cell_type": "code",
   "execution_count": null,
   "metadata": {},
   "outputs": [],
   "source": [
    "def write_results_to_file(results, output_file):\n",
    "    with open(output_file, \"w\") as json_file:\n",
    "         json.dump(results, json_file)\n",
    "    print(f\"Results have been saved to {output_file}\")\n",
    "\n",
    "# entity_hallucinations comes under \"factual inaccuracy\" pattern and \"misclassification\" pattern    \n",
    "write_results_to_file(entity_hallucinations, \"factual_inaccuracy_and_misclassification_hallucinations.json\")\n",
    "\n",
    "# invented_hallucinations comes under \"fabricated detail\" pattern    \n",
    "write_results_to_file(invented_hallucinations, \"fabricated_detail_hallucinations.json\")\n",
    "\n",
    "# subjective_hallucinations comes under \"speculative reasoning\" pattern    \n",
    "write_results_to_file(subjective_hallucinations, \"speculative_reasoning_hallucinations.json\")\n",
    "\n",
    "# entity_invented_subjective_hallucinations comes under \"factual inaccuracy\", \"misclassification\", \"fabricated detail\", and \"speculative reasoning\" patterns    \n",
    "write_results_to_file(entity_invented_subjective_hallucinations, \"all_four_patterns_hallucinations.json\")\n",
    "\n",
    "# other_hallucinations comes under \"miscellaneous\"\n",
    "# From these we need to find more patterns in future   \n",
    "write_results_to_file(other_hallucinations, \"miscellaneous_hallucinations.json\")\n",
    "\n",
    "# no_hallucinations means there are no hallucinations among these responses\n",
    "# Needs manual evaluation on this in future  \n",
    "write_results_to_file(no_hallucinations, \"no_hallucinations.json\")"
   ]
  }
 ],
 "metadata": {
  "kernelspec": {
   "display_name": "base",
   "language": "python",
   "name": "python3"
  },
  "language_info": {
   "codemirror_mode": {
    "name": "ipython",
    "version": 3
   },
   "file_extension": ".py",
   "mimetype": "text/x-python",
   "name": "python",
   "nbconvert_exporter": "python",
   "pygments_lexer": "ipython3",
   "version": "3.10.7"
  }
 },
 "nbformat": 4,
 "nbformat_minor": 2
}
