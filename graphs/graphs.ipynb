{
 "cells": [
  {
   "cell_type": "code",
   "execution_count": 1,
   "metadata": {},
   "outputs": [
    {
     "data": {
      "image/png": "[encoded data removed]",
      "text/plain": [
       "<Figure size 720x432 with 1 Axes>"
      ]
     },
     "metadata": {
      "needs_background": "light"
     },
     "output_type": "display_data"
    }
   ],
   "source": [
    "import matplotlib.pyplot as plt\n",
    "\n",
    "# Categories and their corresponding counts\n",
    "categories = ['Numbered', 'Mathematical', 'Logical Reasoning', 'Opinion Based', 'Subjective', 'Sequence', 'Factual']\n",
    "counts = [2859, 941, 799, 3750, 3901, 9, 12451]\n",
    "\n",
    "# Sort categories and counts based on counts in descending order\n",
    "sorted_data = sorted(zip(categories, counts), key=lambda x: x[1], reverse=False)\n",
    "categories, counts = zip(*sorted_data)\n",
    "\n",
    "# Define colors for each bar\n",
    "colors = ['#E50914'] * len(categories)  # Default color for all bars\n",
    "factual_index = categories.index('Factual')\n",
    "colors[factual_index] = '#0A5C36'  # Change color for 'Factual' bar\n",
    "\n",
    "# Create the horizontal bar chart\n",
    "plt.figure(figsize=(10, 6))  # Optional: Adjust the figure size as needed\n",
    "plt.barh(categories, counts, color=colors)  # Use plt.barh() for horizontal bar chart\n",
    "\n",
    "# Adding titles and labels\n",
    "plt.title('Distribution of Question Types in the GPTRC Dataset')\n",
    "plt.xlabel('Number of Questions')\n",
    "plt.ylabel('Question Type')\n",
    "\n",
    "# Show the plot\n",
    "plt.show()"
   ]
  },
  {
   "cell_type": "code",
   "execution_count": 4,
   "metadata": {},
   "outputs": [
    {
     "data": {
      "text/html": [
       "<div>\n",
       "<style scoped>\n",
       "    .dataframe tbody tr th:only-of-type {\n",
       "        vertical-align: middle;\n",
       "    }\n",
       "\n",
       "    .dataframe tbody tr th {\n",
       "        vertical-align: top;\n",
       "    }\n",
       "\n",
       "    .dataframe thead th {\n",
       "        text-align: right;\n",
       "    }\n",
       "</style>\n",
       "<table border=\"1\" class=\"dataframe\">\n",
       "  <thead>\n",
       "    <tr style=\"text-align: right;\">\n",
       "      <th></th>\n",
       "      <th>Category</th>\n",
       "      <th>Count</th>\n",
       "    </tr>\n",
       "  </thead>\n",
       "  <tbody>\n",
       "    <tr>\n",
       "      <th>6</th>\n",
       "      <td>Factual</td>\n",
       "      <td>12451</td>\n",
       "    </tr>\n",
       "    <tr>\n",
       "      <th>5</th>\n",
       "      <td>Subjective</td>\n",
       "      <td>3901</td>\n",
       "    </tr>\n",
       "    <tr>\n",
       "      <th>4</th>\n",
       "      <td>Opinion Based</td>\n",
       "      <td>3750</td>\n",
       "    </tr>\n",
       "    <tr>\n",
       "      <th>3</th>\n",
       "      <td>Numbered</td>\n",
       "      <td>2859</td>\n",
       "    </tr>\n",
       "    <tr>\n",
       "      <th>2</th>\n",
       "      <td>Mathematical</td>\n",
       "      <td>941</td>\n",
       "    </tr>\n",
       "    <tr>\n",
       "      <th>1</th>\n",
       "      <td>Logical Reasoning</td>\n",
       "      <td>799</td>\n",
       "    </tr>\n",
       "    <tr>\n",
       "      <th>0</th>\n",
       "      <td>Sequence</td>\n",
       "      <td>9</td>\n",
       "    </tr>\n",
       "  </tbody>\n",
       "</table>\n",
       "</div>"
      ],
      "text/plain": [
       "            Category  Count\n",
       "6            Factual  12451\n",
       "5         Subjective   3901\n",
       "4      Opinion Based   3750\n",
       "3           Numbered   2859\n",
       "2       Mathematical    941\n",
       "1  Logical Reasoning    799\n",
       "0           Sequence      9"
      ]
     },
     "execution_count": 4,
     "metadata": {},
     "output_type": "execute_result"
    }
   ],
   "source": [
    "import pandas as pd\n",
    "\n",
    "data = {'Category': categories, 'Count': counts}\n",
    "df = pd.DataFrame(data)\n",
    "\n",
    "# Sort the DataFrame by 'Count' column in descending order\n",
    "df = df.sort_values(by='Count', ascending=False)\n",
    "\n",
    "# Print the DataFrame as a table\n",
    "df"
   ]
  }
 ],
 "metadata": {
  "kernelspec": {
   "display_name": "base",
   "language": "python",
   "name": "python3"
  },
  "language_info": {
   "codemirror_mode": {
    "name": "ipython",
    "version": 3
   },
   "file_extension": ".py",
   "mimetype": "text/x-python",
   "name": "python",
   "nbconvert_exporter": "python",
   "pygments_lexer": "ipython3",
   "version": "3.7.6"
  }
 },
 "nbformat": 4,
 "nbformat_minor": 2
}
